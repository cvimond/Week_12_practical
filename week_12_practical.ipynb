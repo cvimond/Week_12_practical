{
 "cells": [
  {
   "cell_type": "markdown",
   "id": "13d131c9",
   "metadata": {},
   "source": [
    "### Question 1\n",
    "\n",
    "* Use the approach described in Chapter 6.5.1 of Introduction to Statistical Learning to select the best subset of explanatory variables to predict richness in the RIKZ dataset\n",
    "  * Note that the approach uses cross-validation\n",
    "  * You do not need to include interaction, "
   ]
  },
  {
   "cell_type": "code",
   "execution_count": null,
   "id": "ef9672de",
   "metadata": {},
   "outputs": [],
   "source": [
    "### Write you code here - use rick data set\n",
    "# how to select best supset? USE cross-validation\n",
    "# select model that has one parameter and compute r^2, select another model and computer its r^2 etc. \n",
    "# so you can find the best subset that predicts what you are interested in - here is richness\n",
    "\n",
    "#repeat k iteration for the each replication of selecting one chunk for testing - this has more steps "
   ]
  },
  {
   "cell_type": "code",
   "execution_count": 1,
   "id": "b80e7172",
   "metadata": {},
   "outputs": [
    {
     "name": "stderr",
     "output_type": "stream",
     "text": [
      "Registered S3 methods overwritten by 'ggplot2':\n",
      "  method         from \n",
      "  [.quosures     rlang\n",
      "  c.quosures     rlang\n",
      "  print.quosures rlang\n",
      "\n",
      "Registered S3 method overwritten by 'rvest':\n",
      "  method            from\n",
      "  read_xml.response xml2\n",
      "\n",
      "-- \u001b[1mAttaching packages\u001b[22m --------------------------------------- tidyverse 1.2.1 --\n",
      "\n",
      "\u001b[32mv\u001b[39m \u001b[34mggplot2\u001b[39m 3.1.1       \u001b[32mv\u001b[39m \u001b[34mpurrr  \u001b[39m 0.3.2  \n",
      "\u001b[32mv\u001b[39m \u001b[34mtibble \u001b[39m 2.1.1       \u001b[32mv\u001b[39m \u001b[34mdplyr  \u001b[39m 0.8.0.\u001b[31m1\u001b[39m\n",
      "\u001b[32mv\u001b[39m \u001b[34mtidyr  \u001b[39m 0.8.3       \u001b[32mv\u001b[39m \u001b[34mstringr\u001b[39m 1.4.0  \n",
      "\u001b[32mv\u001b[39m \u001b[34mreadr  \u001b[39m 1.3.1       \u001b[32mv\u001b[39m \u001b[34mforcats\u001b[39m 0.4.0  \n",
      "\n",
      "-- \u001b[1mConflicts\u001b[22m ------------------------------------------ tidyverse_conflicts() --\n",
      "\u001b[31mx\u001b[39m \u001b[34mdplyr\u001b[39m::\u001b[32mfilter()\u001b[39m masks \u001b[34mstats\u001b[39m::filter()\n",
      "\u001b[31mx\u001b[39m \u001b[34mdplyr\u001b[39m::\u001b[32mlag()\u001b[39m    masks \u001b[34mstats\u001b[39m::lag()\n",
      "\n"
     ]
    }
   ],
   "source": [
    "library(tidyverse)"
   ]
  },
  {
   "cell_type": "code",
   "execution_count": 16,
   "id": "0abe36aa",
   "metadata": {},
   "outputs": [
    {
     "name": "stderr",
     "output_type": "stream",
     "text": [
      "Parsed with column specification:\n",
      "cols(\n",
      "  .default = col_double()\n",
      ")\n",
      "\n",
      "See spec(...) for full column specifications.\n",
      "\n"
     ]
    },
    {
     "data": {
      "text/html": [
       "<table>\n",
       "<thead><tr><th scope=col>Sample</th><th scope=col>C1</th><th scope=col>P1</th><th scope=col>P2</th><th scope=col>P3</th><th scope=col>P4</th><th scope=col>P5</th><th scope=col>P6</th><th scope=col>P7</th><th scope=col>P8</th><th scope=col>...</th><th scope=col>exposure</th><th scope=col>salinity</th><th scope=col>temperature</th><th scope=col>NAP</th><th scope=col>penetrability</th><th scope=col>grainsize</th><th scope=col>humus</th><th scope=col>chalk</th><th scope=col>sorting1</th><th scope=col>Beach</th></tr></thead>\n",
       "<tbody>\n",
       "\t<tr><td>1     </td><td>4     </td><td>0     </td><td>0     </td><td>0     </td><td>0     </td><td>0     </td><td>1     </td><td>0     </td><td>0     </td><td>...   </td><td>10    </td><td>29.4  </td><td>17.5  </td><td> 0.045</td><td>253.9 </td><td>222.5 </td><td>0.05  </td><td>2.05  </td><td>69.830</td><td>1     </td></tr>\n",
       "\t<tr><td>2     </td><td>0     </td><td>0     </td><td>1     </td><td>0     </td><td>0     </td><td>0     </td><td>0     </td><td>0     </td><td>0     </td><td>...   </td><td>10    </td><td>29.4  </td><td>17.5  </td><td>-1.036</td><td>226.9 </td><td>200.0 </td><td>0.30  </td><td>2.50  </td><td>59.000</td><td>1     </td></tr>\n",
       "\t<tr><td>3     </td><td>0     </td><td>0     </td><td>3     </td><td>0     </td><td>0     </td><td>0     </td><td>0     </td><td>0     </td><td>0     </td><td>...   </td><td>10    </td><td>29.4  </td><td>17.5  </td><td>-1.336</td><td>237.1 </td><td>194.5 </td><td>0.10  </td><td>3.45  </td><td>59.220</td><td>1     </td></tr>\n",
       "\t<tr><td>4     </td><td>0     </td><td>0     </td><td>0     </td><td>0     </td><td>0     </td><td>0     </td><td>0     </td><td>0     </td><td>0     </td><td>...   </td><td>10    </td><td>29.4  </td><td>17.5  </td><td> 0.616</td><td>248.6 </td><td>221.0 </td><td>0.15  </td><td>1.60  </td><td>67.750</td><td>1     </td></tr>\n",
       "\t<tr><td>5     </td><td>1     </td><td>0     </td><td>0     </td><td>0     </td><td>0     </td><td>0     </td><td>0     </td><td>0     </td><td>0     </td><td>...   </td><td>10    </td><td>29.4  </td><td>17.5  </td><td>-0.684</td><td>251.9 </td><td>202.0 </td><td>0.05  </td><td>2.45  </td><td>57.760</td><td>1     </td></tr>\n",
       "\t<tr><td>6     </td><td>0     </td><td>0     </td><td>0     </td><td>0     </td><td>0     </td><td>1     </td><td>0     </td><td>0     </td><td>0     </td><td>...   </td><td> 8    </td><td>29.6  </td><td>20.8  </td><td> 1.190</td><td>250.1 </td><td>192.5 </td><td>0.10  </td><td>2.50  </td><td>53.075</td><td>2     </td></tr>\n",
       "</tbody>\n",
       "</table>\n"
      ],
      "text/latex": [
       "\\begin{tabular}{r|lllllllllllllllllllllllllllllllllllllllllllllllllllllllllllllllllllllllllllllllllllllllll}\n",
       " Sample & C1 & P1 & P2 & P3 & P4 & P5 & P6 & P7 & P8 & ... & exposure & salinity & temperature & NAP & penetrability & grainsize & humus & chalk & sorting1 & Beach\\\\\n",
       "\\hline\n",
       "\t 1      & 4      & 0      & 0      & 0      & 0      & 0      & 1      & 0      & 0      & ...    & 10     & 29.4   & 17.5   &  0.045 & 253.9  & 222.5  & 0.05   & 2.05   & 69.830 & 1     \\\\\n",
       "\t 2      & 0      & 0      & 1      & 0      & 0      & 0      & 0      & 0      & 0      & ...    & 10     & 29.4   & 17.5   & -1.036 & 226.9  & 200.0  & 0.30   & 2.50   & 59.000 & 1     \\\\\n",
       "\t 3      & 0      & 0      & 3      & 0      & 0      & 0      & 0      & 0      & 0      & ...    & 10     & 29.4   & 17.5   & -1.336 & 237.1  & 194.5  & 0.10   & 3.45   & 59.220 & 1     \\\\\n",
       "\t 4      & 0      & 0      & 0      & 0      & 0      & 0      & 0      & 0      & 0      & ...    & 10     & 29.4   & 17.5   &  0.616 & 248.6  & 221.0  & 0.15   & 1.60   & 67.750 & 1     \\\\\n",
       "\t 5      & 1      & 0      & 0      & 0      & 0      & 0      & 0      & 0      & 0      & ...    & 10     & 29.4   & 17.5   & -0.684 & 251.9  & 202.0  & 0.05   & 2.45   & 57.760 & 1     \\\\\n",
       "\t 6      & 0      & 0      & 0      & 0      & 0      & 1      & 0      & 0      & 0      & ...    &  8     & 29.6   & 20.8   &  1.190 & 250.1  & 192.5  & 0.10   & 2.50   & 53.075 & 2     \\\\\n",
       "\\end{tabular}\n"
      ],
      "text/markdown": [
       "\n",
       "| Sample | C1 | P1 | P2 | P3 | P4 | P5 | P6 | P7 | P8 | ... | exposure | salinity | temperature | NAP | penetrability | grainsize | humus | chalk | sorting1 | Beach |\n",
       "|---|---|---|---|---|---|---|---|---|---|---|---|---|---|---|---|---|---|---|---|---|\n",
       "| 1      | 4      | 0      | 0      | 0      | 0      | 0      | 1      | 0      | 0      | ...    | 10     | 29.4   | 17.5   |  0.045 | 253.9  | 222.5  | 0.05   | 2.05   | 69.830 | 1      |\n",
       "| 2      | 0      | 0      | 1      | 0      | 0      | 0      | 0      | 0      | 0      | ...    | 10     | 29.4   | 17.5   | -1.036 | 226.9  | 200.0  | 0.30   | 2.50   | 59.000 | 1      |\n",
       "| 3      | 0      | 0      | 3      | 0      | 0      | 0      | 0      | 0      | 0      | ...    | 10     | 29.4   | 17.5   | -1.336 | 237.1  | 194.5  | 0.10   | 3.45   | 59.220 | 1      |\n",
       "| 4      | 0      | 0      | 0      | 0      | 0      | 0      | 0      | 0      | 0      | ...    | 10     | 29.4   | 17.5   |  0.616 | 248.6  | 221.0  | 0.15   | 1.60   | 67.750 | 1      |\n",
       "| 5      | 1      | 0      | 0      | 0      | 0      | 0      | 0      | 0      | 0      | ...    | 10     | 29.4   | 17.5   | -0.684 | 251.9  | 202.0  | 0.05   | 2.45   | 57.760 | 1      |\n",
       "| 6      | 0      | 0      | 0      | 0      | 0      | 1      | 0      | 0      | 0      | ...    |  8     | 29.6   | 20.8   |  1.190 | 250.1  | 192.5  | 0.10   | 2.50   | 53.075 | 2      |\n",
       "\n"
      ],
      "text/plain": [
       "  Sample C1 P1 P2 P3 P4 P5 P6 P7 P8 ... exposure salinity temperature NAP   \n",
       "1 1      4  0  0  0  0  0  1  0  0  ... 10       29.4     17.5         0.045\n",
       "2 2      0  0  1  0  0  0  0  0  0  ... 10       29.4     17.5        -1.036\n",
       "3 3      0  0  3  0  0  0  0  0  0  ... 10       29.4     17.5        -1.336\n",
       "4 4      0  0  0  0  0  0  0  0  0  ... 10       29.4     17.5         0.616\n",
       "5 5      1  0  0  0  0  0  0  0  0  ... 10       29.4     17.5        -0.684\n",
       "6 6      0  0  0  0  0  1  0  0  0  ...  8       29.6     20.8         1.190\n",
       "  penetrability grainsize humus chalk sorting1 Beach\n",
       "1 253.9         222.5     0.05  2.05  69.830   1    \n",
       "2 226.9         200.0     0.30  2.50  59.000   1    \n",
       "3 237.1         194.5     0.10  3.45  59.220   1    \n",
       "4 248.6         221.0     0.15  1.60  67.750   1    \n",
       "5 251.9         202.0     0.05  2.45  57.760   1    \n",
       "6 250.1         192.5     0.10  2.50  53.075   2    "
      ]
     },
     "metadata": {},
     "output_type": "display_data"
    }
   ],
   "source": [
    "#load data into variable as a tibble\n",
    "survey_data = read_csv(\"RIKZ.csv\")\n",
    "head(survey_data)"
   ]
  },
  {
   "cell_type": "code",
   "execution_count": 30,
   "id": "918c0670",
   "metadata": {
    "scrolled": true
   },
   "outputs": [
    {
     "data": {
      "text/html": [
       "<ol class=list-inline>\n",
       "\t<li>11</li>\n",
       "\t<li>10</li>\n",
       "\t<li>13</li>\n",
       "\t<li>11</li>\n",
       "\t<li>10</li>\n",
       "\t<li>8</li>\n",
       "\t<li>9</li>\n",
       "\t<li>8</li>\n",
       "\t<li>19</li>\n",
       "\t<li>17</li>\n",
       "\t<li>6</li>\n",
       "\t<li>1</li>\n",
       "\t<li>4</li>\n",
       "\t<li>3</li>\n",
       "\t<li>3</li>\n",
       "\t<li>1</li>\n",
       "\t<li>3</li>\n",
       "\t<li>3</li>\n",
       "\t<li>1</li>\n",
       "\t<li>4</li>\n",
       "\t<li>3</li>\n",
       "\t<li>22</li>\n",
       "\t<li>6</li>\n",
       "\t<li>0</li>\n",
       "\t<li>6</li>\n",
       "\t<li>5</li>\n",
       "\t<li>4</li>\n",
       "\t<li>1</li>\n",
       "\t<li>6</li>\n",
       "\t<li>4</li>\n",
       "\t<li>2</li>\n",
       "\t<li>1</li>\n",
       "\t<li>1</li>\n",
       "\t<li>3</li>\n",
       "\t<li>4</li>\n",
       "\t<li>3</li>\n",
       "\t<li>5</li>\n",
       "\t<li>7</li>\n",
       "\t<li>5</li>\n",
       "\t<li>0</li>\n",
       "\t<li>7</li>\n",
       "\t<li>11</li>\n",
       "\t<li>3</li>\n",
       "\t<li>0</li>\n",
       "\t<li>2</li>\n",
       "</ol>\n"
      ],
      "text/latex": [
       "\\begin{enumerate*}\n",
       "\\item 11\n",
       "\\item 10\n",
       "\\item 13\n",
       "\\item 11\n",
       "\\item 10\n",
       "\\item 8\n",
       "\\item 9\n",
       "\\item 8\n",
       "\\item 19\n",
       "\\item 17\n",
       "\\item 6\n",
       "\\item 1\n",
       "\\item 4\n",
       "\\item 3\n",
       "\\item 3\n",
       "\\item 1\n",
       "\\item 3\n",
       "\\item 3\n",
       "\\item 1\n",
       "\\item 4\n",
       "\\item 3\n",
       "\\item 22\n",
       "\\item 6\n",
       "\\item 0\n",
       "\\item 6\n",
       "\\item 5\n",
       "\\item 4\n",
       "\\item 1\n",
       "\\item 6\n",
       "\\item 4\n",
       "\\item 2\n",
       "\\item 1\n",
       "\\item 1\n",
       "\\item 3\n",
       "\\item 4\n",
       "\\item 3\n",
       "\\item 5\n",
       "\\item 7\n",
       "\\item 5\n",
       "\\item 0\n",
       "\\item 7\n",
       "\\item 11\n",
       "\\item 3\n",
       "\\item 0\n",
       "\\item 2\n",
       "\\end{enumerate*}\n"
      ],
      "text/markdown": [
       "1. 11\n",
       "2. 10\n",
       "3. 13\n",
       "4. 11\n",
       "5. 10\n",
       "6. 8\n",
       "7. 9\n",
       "8. 8\n",
       "9. 19\n",
       "10. 17\n",
       "11. 6\n",
       "12. 1\n",
       "13. 4\n",
       "14. 3\n",
       "15. 3\n",
       "16. 1\n",
       "17. 3\n",
       "18. 3\n",
       "19. 1\n",
       "20. 4\n",
       "21. 3\n",
       "22. 22\n",
       "23. 6\n",
       "24. 0\n",
       "25. 6\n",
       "26. 5\n",
       "27. 4\n",
       "28. 1\n",
       "29. 6\n",
       "30. 4\n",
       "31. 2\n",
       "32. 1\n",
       "33. 1\n",
       "34. 3\n",
       "35. 4\n",
       "36. 3\n",
       "37. 5\n",
       "38. 7\n",
       "39. 5\n",
       "40. 0\n",
       "41. 7\n",
       "42. 11\n",
       "43. 3\n",
       "44. 0\n",
       "45. 2\n",
       "\n",
       "\n"
      ],
      "text/plain": [
       " [1] 11 10 13 11 10  8  9  8 19 17  6  1  4  3  3  1  3  3  1  4  3 22  6  0  6\n",
       "[26]  5  4  1  6  4  2  1  1  3  4  3  5  7  5  0  7 11  3  0  2"
      ]
     },
     "metadata": {},
     "output_type": "display_data"
    },
    {
     "data": {
      "text/html": [
       "<table>\n",
       "<thead><tr><th scope=col>Sample</th><th scope=col>C1</th><th scope=col>P1</th><th scope=col>P2</th><th scope=col>P3</th><th scope=col>P4</th><th scope=col>P5</th><th scope=col>P6</th><th scope=col>P7</th><th scope=col>P8</th><th scope=col>...</th><th scope=col>salinity</th><th scope=col>temperature</th><th scope=col>NAP</th><th scope=col>penetrability</th><th scope=col>grainsize</th><th scope=col>humus</th><th scope=col>chalk</th><th scope=col>sorting1</th><th scope=col>Beach</th><th scope=col>richness</th></tr></thead>\n",
       "<tbody>\n",
       "\t<tr><td> 1      </td><td>4       </td><td>0       </td><td>0       </td><td> 0      </td><td> 0      </td><td>0       </td><td>1       </td><td> 0      </td><td>0       </td><td>...     </td><td>29.4    </td><td>17.500  </td><td> 0.045  </td><td>253.9   </td><td>222.5   </td><td>0.0500  </td><td> 2.05   </td><td> 69.8300</td><td>1       </td><td>11      </td></tr>\n",
       "\t<tr><td> 2      </td><td>0       </td><td>0       </td><td>1       </td><td> 0      </td><td> 0      </td><td>0       </td><td>0       </td><td> 0      </td><td>0       </td><td>...     </td><td>29.4    </td><td>17.500  </td><td>-1.036  </td><td>226.9   </td><td>200.0   </td><td>0.3000  </td><td> 2.50   </td><td> 59.0000</td><td>1       </td><td>10      </td></tr>\n",
       "\t<tr><td> 3      </td><td>0       </td><td>0       </td><td>3       </td><td> 0      </td><td> 0      </td><td>0       </td><td>0       </td><td> 0      </td><td>0       </td><td>...     </td><td>29.4    </td><td>17.500  </td><td>-1.336  </td><td>237.1   </td><td>194.5   </td><td>0.1000  </td><td> 3.45   </td><td> 59.2200</td><td>1       </td><td>13      </td></tr>\n",
       "\t<tr><td> 4      </td><td>0       </td><td>0       </td><td>0       </td><td> 0      </td><td> 0      </td><td>0       </td><td>0       </td><td> 0      </td><td>0       </td><td>...     </td><td>29.4    </td><td>17.500  </td><td> 0.616  </td><td>248.6   </td><td>221.0   </td><td>0.1500  </td><td> 1.60   </td><td> 67.7500</td><td>1       </td><td>11      </td></tr>\n",
       "\t<tr><td> 5      </td><td>1       </td><td>0       </td><td>0       </td><td> 0      </td><td> 0      </td><td>0       </td><td>0       </td><td> 0      </td><td>0       </td><td>...     </td><td>29.4    </td><td>17.500  </td><td>-0.684  </td><td>251.9   </td><td>202.0   </td><td>0.0500  </td><td> 2.45   </td><td> 57.7600</td><td>1       </td><td>10      </td></tr>\n",
       "\t<tr><td> 6      </td><td>0       </td><td>0       </td><td>0       </td><td> 0      </td><td> 0      </td><td>1       </td><td>0       </td><td> 0      </td><td>0       </td><td>...     </td><td>29.6    </td><td>20.800  </td><td> 1.190  </td><td>250.1   </td><td>192.5   </td><td>0.1000  </td><td> 2.50   </td><td> 53.0750</td><td>2       </td><td> 8      </td></tr>\n",
       "\t<tr><td> 7      </td><td>0       </td><td>0       </td><td>0       </td><td> 1      </td><td> 1      </td><td>0       </td><td>0       </td><td> 0      </td><td>0       </td><td>...     </td><td>29.6    </td><td>20.800  </td><td> 0.820  </td><td>257.1   </td><td>205.5   </td><td>0.1000  </td><td> 1.85   </td><td> 54.4100</td><td>2       </td><td> 9      </td></tr>\n",
       "\t<tr><td> 8      </td><td>0       </td><td>0       </td><td>0       </td><td> 0      </td><td> 0      </td><td>0       </td><td>0       </td><td> 0      </td><td>0       </td><td>...     </td><td>29.6    </td><td>20.800  </td><td> 0.635  </td><td>247.9   </td><td>211.5   </td><td>0.1000  </td><td> 1.70   </td><td> 60.4050</td><td>2       </td><td> 8      </td></tr>\n",
       "\t<tr><td> 9      </td><td>0       </td><td>0       </td><td>0       </td><td>21      </td><td>11      </td><td>3       </td><td>0       </td><td>34      </td><td>0       </td><td>...     </td><td>29.6    </td><td>20.800  </td><td> 0.061  </td><td>248.9   </td><td>205.5   </td><td>0.1500  </td><td> 2.30   </td><td> 58.8100</td><td>2       </td><td>19      </td></tr>\n",
       "\t<tr><td>10      </td><td>0       </td><td>2       </td><td>0       </td><td> 2      </td><td> 0      </td><td>0       </td><td>0       </td><td> 7      </td><td>0       </td><td>...     </td><td>29.6    </td><td>20.800  </td><td>-1.334  </td><td>257.9   </td><td>197.0   </td><td>0.0000  </td><td> 2.60   </td><td> 59.5750</td><td>2       </td><td>17      </td></tr>\n",
       "\t<tr><td>11      </td><td>0       </td><td>0       </td><td>0       </td><td> 0      </td><td> 0      </td><td>0       </td><td>0       </td><td> 0      </td><td>0       </td><td>...     </td><td>27.9    </td><td>15.800  </td><td>-0.976  </td><td>268.4   </td><td>330.5   </td><td>0.0500  </td><td> 3.40   </td><td>101.3300</td><td>3       </td><td> 6      </td></tr>\n",
       "\t<tr><td>12      </td><td>0       </td><td>0       </td><td>0       </td><td> 0      </td><td> 0      </td><td>0       </td><td>0       </td><td> 0      </td><td>0       </td><td>...     </td><td>27.9    </td><td>15.800  </td><td> 1.494  </td><td>274.4   </td><td>272.5   </td><td>0.0000  </td><td> 2.55   </td><td> 66.1700</td><td>3       </td><td> 1      </td></tr>\n",
       "\t<tr><td>13      </td><td>0       </td><td>0       </td><td>0       </td><td> 0      </td><td> 0      </td><td>0       </td><td>0       </td><td> 0      </td><td>0       </td><td>...     </td><td>27.9    </td><td>15.800  </td><td>-0.201  </td><td>272.9   </td><td>296.5   </td><td>0.1000  </td><td> 2.20   </td><td> 83.8400</td><td>3       </td><td> 4      </td></tr>\n",
       "\t<tr><td>14      </td><td>0       </td><td>0       </td><td>0       </td><td> 0      </td><td> 0      </td><td>0       </td><td>0       </td><td> 0      </td><td>0       </td><td>...     </td><td>27.9    </td><td>15.800  </td><td>-0.482  </td><td>261.4   </td><td>304.0   </td><td>0.0500  </td><td> 1.95   </td><td> 78.0750</td><td>3       </td><td> 3      </td></tr>\n",
       "\t<tr><td>15      </td><td>0       </td><td>0       </td><td>0       </td><td> 0      </td><td> 0      </td><td>0       </td><td>0       </td><td> 0      </td><td>0       </td><td>...     </td><td>27.9    </td><td>15.800  </td><td> 0.167  </td><td>258.1   </td><td>323.5   </td><td>0.1000  </td><td> 1.90   </td><td>105.9550</td><td>3       </td><td> 3      </td></tr>\n",
       "\t<tr><td>16      </td><td>0       </td><td>0       </td><td>0       </td><td> 0      </td><td> 0      </td><td>0       </td><td>0       </td><td> 0      </td><td>0       </td><td>...     </td><td>28.1    </td><td>18.775  </td><td> 1.768  </td><td>258.4   </td><td>293.5   </td><td>0.0500  </td><td> 7.10   </td><td> 87.6850</td><td>4       </td><td> 1      </td></tr>\n",
       "\t<tr><td>17      </td><td>0       </td><td>0       </td><td>0       </td><td> 0      </td><td> 0      </td><td>0       </td><td>0       </td><td> 0      </td><td>0       </td><td>...     </td><td>28.1    </td><td>18.775  </td><td>-0.030  </td><td>253.4   </td><td>361.0   </td><td>0.0000  </td><td>45.75   </td><td>248.6000</td><td>4       </td><td> 3      </td></tr>\n",
       "\t<tr><td>18      </td><td>0       </td><td>0       </td><td>0       </td><td> 0      </td><td> 0      </td><td>0       </td><td>0       </td><td> 1      </td><td>0       </td><td>...     </td><td>28.1    </td><td>18.775  </td><td> 0.460  </td><td>268.6   </td><td>330.5   </td><td>0.0500  </td><td>38.95   </td><td>153.6250</td><td>4       </td><td> 3      </td></tr>\n",
       "\t<tr><td>19      </td><td>0       </td><td>0       </td><td>0       </td><td> 0      </td><td> 0      </td><td>0       </td><td>0       </td><td> 0      </td><td>0       </td><td>...     </td><td>28.1    </td><td>18.775  </td><td> 1.367  </td><td>270.3   </td><td>289.5   </td><td>0.0000  </td><td> 4.15   </td><td> 76.4150</td><td>4       </td><td> 1      </td></tr>\n",
       "\t<tr><td>20      </td><td>0       </td><td>0       </td><td>0       </td><td> 0      </td><td> 0      </td><td>0       </td><td>0       </td><td> 0      </td><td>0       </td><td>...     </td><td>28.1    </td><td>18.775  </td><td>-0.811  </td><td>260.3   </td><td>297.0   </td><td>0.0000  </td><td>28.85   </td><td> 96.9650</td><td>4       </td><td> 4      </td></tr>\n",
       "\t<tr><td>21      </td><td>0       </td><td>0       </td><td>0       </td><td> 0      </td><td> 0      </td><td>0       </td><td>0       </td><td> 0      </td><td>0       </td><td>...     </td><td>29.9    </td><td>19.800  </td><td> 1.117  </td><td>252.1   </td><td>251.5   </td><td>0.0000  </td><td> 0.85   </td><td> 80.0300</td><td>5       </td><td> 3      </td></tr>\n",
       "\t<tr><td>22      </td><td>0       </td><td>1       </td><td>0       </td><td> 8      </td><td> 0      </td><td>1       </td><td>0       </td><td> 0      </td><td>1       </td><td>...     </td><td>29.9    </td><td>19.800  </td><td>-0.503  </td><td>256.1   </td><td>265.0   </td><td>0.0000  </td><td> 1.60   </td><td> 89.0350</td><td>5       </td><td>22      </td></tr>\n",
       "\t<tr><td>23      </td><td>0       </td><td>0       </td><td>0       </td><td> 0      </td><td> 0      </td><td>0       </td><td>0       </td><td> 0      </td><td>0       </td><td>...     </td><td>29.9    </td><td>19.800  </td><td> 0.729  </td><td>244.1   </td><td>275.5   </td><td>0.1000  </td><td> 2.15   </td><td>106.7200</td><td>5       </td><td> 6      </td></tr>\n",
       "\t<tr><td>24      </td><td>0       </td><td>0       </td><td>0       </td><td> 0      </td><td> 0      </td><td>0       </td><td>0       </td><td> 0      </td><td>0       </td><td>...     </td><td>29.9    </td><td>19.800  </td><td> 1.627  </td><td>239.1   </td><td>256.5   </td><td>0.0000  </td><td> 0.95   </td><td> 85.5500</td><td>5       </td><td> 0      </td></tr>\n",
       "\t<tr><td>25      </td><td>0       </td><td>0       </td><td>0       </td><td> 1      </td><td> 0      </td><td>0       </td><td>0       </td><td> 0      </td><td>0       </td><td>...     </td><td>29.9    </td><td>19.800  </td><td> 0.054  </td><td>231.1   </td><td>254.5   </td><td>0.1000  </td><td> 2.10   </td><td> 86.1700</td><td>5       </td><td> 6      </td></tr>\n",
       "\t<tr><td>26      </td><td>0       </td><td>0       </td><td>0       </td><td> 0      </td><td> 0      </td><td>0       </td><td>0       </td><td> 0      </td><td>0       </td><td>...     </td><td>27.1    </td><td>17.400  </td><td>-0.578  </td><td>221.8   </td><td>351.0   </td><td>0.0000  </td><td>17.65   </td><td>150.0800</td><td>6       </td><td> 5      </td></tr>\n",
       "\t<tr><td>27      </td><td>0       </td><td>0       </td><td>0       </td><td> 0      </td><td> 0      </td><td>0       </td><td>0       </td><td> 0      </td><td>0       </td><td>...     </td><td>27.1    </td><td>17.400  </td><td>-0.348  </td><td>206.8   </td><td>405.5   </td><td>0.0500  </td><td>13.35   </td><td>148.6800</td><td>6       </td><td> 4      </td></tr>\n",
       "\t<tr><td>28      </td><td>0       </td><td>0       </td><td>0       </td><td> 0      </td><td> 0      </td><td>0       </td><td>0       </td><td> 0      </td><td>0       </td><td>...     </td><td>27.1    </td><td>17.400  </td><td> 2.222  </td><td>189.3   </td><td>347.5   </td><td>0.0000  </td><td> 3.80   </td><td>124.2150</td><td>6       </td><td> 1      </td></tr>\n",
       "\t<tr><td>29      </td><td>0       </td><td>0       </td><td>0       </td><td> 0      </td><td> 0      </td><td>0       </td><td>0       </td><td> 0      </td><td>0       </td><td>...     </td><td>27.1    </td><td>17.400  </td><td>-0.893  </td><td>179.3   </td><td>336.0   </td><td>0.0500  </td><td>15.50   </td><td>151.6650</td><td>6       </td><td> 6      </td></tr>\n",
       "\t<tr><td>30      </td><td>0       </td><td>0       </td><td>0       </td><td> 0      </td><td> 0      </td><td>0       </td><td>0       </td><td> 0      </td><td>0       </td><td>...     </td><td>27.1    </td><td>17.400  </td><td> 0.766  </td><td>172.3   </td><td>354.5   </td><td>0.0000  </td><td> 7.35   </td><td>136.9900</td><td>6       </td><td> 4      </td></tr>\n",
       "\t<tr><td>31      </td><td>0       </td><td>0       </td><td>0       </td><td> 0      </td><td> 0      </td><td>0       </td><td>0       </td><td> 0      </td><td>0       </td><td>...     </td><td>27.4    </td><td>18.400  </td><td> 0.883  </td><td>165.8   </td><td>266.0   </td><td>0.0500  </td><td>11.35   </td><td>126.6850</td><td>7       </td><td> 2      </td></tr>\n",
       "\t<tr><td>32      </td><td>0       </td><td>0       </td><td>0       </td><td> 0      </td><td> 0      </td><td>0       </td><td>0       </td><td> 0      </td><td>0       </td><td>...     </td><td>27.4    </td><td>18.400  </td><td> 1.786  </td><td>151.8   </td><td>256.5   </td><td>0.0125  </td><td>12.65   </td><td>118.8738</td><td>7       </td><td> 1      </td></tr>\n",
       "\t<tr><td>33      </td><td>0       </td><td>0       </td><td>0       </td><td> 0      </td><td> 0      </td><td>0       </td><td>0       </td><td> 0      </td><td>0       </td><td>...     </td><td>27.4    </td><td>18.400  </td><td> 1.375  </td><td>193.3   </td><td>234.0   </td><td>0.0000  </td><td> 9.15   </td><td> 93.5850</td><td>7       </td><td> 1      </td></tr>\n",
       "\t<tr><td>34      </td><td>0       </td><td>0       </td><td>0       </td><td> 0      </td><td> 0      </td><td>0       </td><td>0       </td><td> 0      </td><td>0       </td><td>...     </td><td>27.4    </td><td>18.400  </td><td>-0.060  </td><td>226.8   </td><td>242.0   </td><td>0.0000  </td><td>16.10   </td><td>114.0200</td><td>7       </td><td> 3      </td></tr>\n",
       "\t<tr><td>35      </td><td>0       </td><td>0       </td><td>0       </td><td> 0      </td><td> 0      </td><td>0       </td><td>0       </td><td> 0      </td><td>0       </td><td>...     </td><td>27.4    </td><td>18.400  </td><td> 0.367  </td><td>262.3   </td><td>284.0   </td><td>0.0000  </td><td>14.00   </td><td>141.2050</td><td>7       </td><td> 4      </td></tr>\n",
       "\t<tr><td>36      </td><td>0       </td><td>0       </td><td>0       </td><td> 0      </td><td> 0      </td><td>0       </td><td>0       </td><td> 0      </td><td>0       </td><td>...     </td><td>26.4    </td><td>20.000  </td><td> 1.671  </td><td>296.3   </td><td>294.5   </td><td>0.0000  </td><td> 4.95   </td><td> 94.3850</td><td>8       </td><td> 3      </td></tr>\n",
       "\t<tr><td>37      </td><td>0       </td><td>0       </td><td>0       </td><td> 0      </td><td> 0      </td><td>0       </td><td>0       </td><td> 0      </td><td>0       </td><td>...     </td><td>26.4    </td><td>20.000  </td><td>-0.375  </td><td>342.3   </td><td>316.5   </td><td>0.1000  </td><td> 7.20   </td><td>115.4450</td><td>8       </td><td> 5      </td></tr>\n",
       "\t<tr><td>38      </td><td>0       </td><td>0       </td><td>0       </td><td> 0      </td><td> 0      </td><td>0       </td><td>0       </td><td> 0      </td><td>0       </td><td>...     </td><td>26.4    </td><td>20.000  </td><td>-1.005  </td><td>382.8   </td><td>355.0   </td><td>0.0000  </td><td>16.70   </td><td>133.0850</td><td>8       </td><td> 7      </td></tr>\n",
       "\t<tr><td>39      </td><td>0       </td><td>0       </td><td>0       </td><td> 0      </td><td> 0      </td><td>0       </td><td>0       </td><td> 0      </td><td>0       </td><td>...     </td><td>26.4    </td><td>20.000  </td><td> 0.170  </td><td>415.8   </td><td>362.0   </td><td>0.0000  </td><td> 6.00   </td><td>113.8150</td><td>8       </td><td> 5      </td></tr>\n",
       "\t<tr><td>40      </td><td>0       </td><td>0       </td><td>0       </td><td> 0      </td><td> 0      </td><td>0       </td><td>0       </td><td> 0      </td><td>0       </td><td>...     </td><td>26.4    </td><td>20.000  </td><td> 2.052  </td><td>449.8   </td><td>311.5   </td><td>0.0000  </td><td> 4.75   </td><td> 93.6600</td><td>8       </td><td> 0      </td></tr>\n",
       "\t<tr><td>41      </td><td>0       </td><td>0       </td><td>2       </td><td> 0      </td><td> 0      </td><td>0       </td><td>0       </td><td> 0      </td><td>0       </td><td>...     </td><td>27.1    </td><td>20.500  </td><td>-0.356  </td><td>489.0   </td><td>244.5   </td><td>0.0500  </td><td> 5.75   </td><td> 89.3900</td><td>9       </td><td> 7      </td></tr>\n",
       "\t<tr><td>42      </td><td>0       </td><td>0       </td><td>0       </td><td> 0      </td><td> 0      </td><td>1       </td><td>0       </td><td> 0      </td><td>0       </td><td>...     </td><td>27.1    </td><td>20.500  </td><td> 0.094  </td><td>531.0   </td><td>247.5   </td><td>0.2000  </td><td> 4.95   </td><td> 76.9050</td><td>9       </td><td>11      </td></tr>\n",
       "\t<tr><td>43      </td><td>0       </td><td>0       </td><td>0       </td><td> 0      </td><td> 0      </td><td>0       </td><td>0       </td><td> 0      </td><td>0       </td><td>...     </td><td>27.1    </td><td>20.500  </td><td>-0.002  </td><td>568.5   </td><td>223.0   </td><td>0.0000  </td><td> 5.40   </td><td> 72.7450</td><td>9       </td><td> 3      </td></tr>\n",
       "\t<tr><td>44      </td><td>0       </td><td>0       </td><td>0       </td><td> 0      </td><td> 0      </td><td>0       </td><td>0       </td><td> 0      </td><td>0       </td><td>...     </td><td>27.1    </td><td>20.500  </td><td> 2.255  </td><td>606.5   </td><td>186.0   </td><td>0.0500  </td><td> 7.10   </td><td> 77.2550</td><td>9       </td><td> 0      </td></tr>\n",
       "\t<tr><td>45      </td><td>0       </td><td>0       </td><td>0       </td><td> 0      </td><td> 0      </td><td>0       </td><td>0       </td><td> 0      </td><td>0       </td><td>...     </td><td>27.1    </td><td>20.500  </td><td> 0.865  </td><td>624.0   </td><td>189.5   </td><td>0.0000  </td><td> 7.10   </td><td> 83.3200</td><td>9       </td><td> 2      </td></tr>\n",
       "</tbody>\n",
       "</table>\n"
      ],
      "text/latex": [
       "\\begin{tabular}{r|llllllllllllllllllllllllllllllllllllllllllllllllllllllllllllllllllllllllllllllllllllllllll}\n",
       " Sample & C1 & P1 & P2 & P3 & P4 & P5 & P6 & P7 & P8 & ... & salinity & temperature & NAP & penetrability & grainsize & humus & chalk & sorting1 & Beach & richness\\\\\n",
       "\\hline\n",
       "\t  1       & 4        & 0        & 0        &  0       &  0       & 0        & 1        &  0       & 0        & ...      & 29.4     & 17.500   &  0.045   & 253.9    & 222.5    & 0.0500   &  2.05    &  69.8300 & 1        & 11      \\\\\n",
       "\t  2       & 0        & 0        & 1        &  0       &  0       & 0        & 0        &  0       & 0        & ...      & 29.4     & 17.500   & -1.036   & 226.9    & 200.0    & 0.3000   &  2.50    &  59.0000 & 1        & 10      \\\\\n",
       "\t  3       & 0        & 0        & 3        &  0       &  0       & 0        & 0        &  0       & 0        & ...      & 29.4     & 17.500   & -1.336   & 237.1    & 194.5    & 0.1000   &  3.45    &  59.2200 & 1        & 13      \\\\\n",
       "\t  4       & 0        & 0        & 0        &  0       &  0       & 0        & 0        &  0       & 0        & ...      & 29.4     & 17.500   &  0.616   & 248.6    & 221.0    & 0.1500   &  1.60    &  67.7500 & 1        & 11      \\\\\n",
       "\t  5       & 1        & 0        & 0        &  0       &  0       & 0        & 0        &  0       & 0        & ...      & 29.4     & 17.500   & -0.684   & 251.9    & 202.0    & 0.0500   &  2.45    &  57.7600 & 1        & 10      \\\\\n",
       "\t  6       & 0        & 0        & 0        &  0       &  0       & 1        & 0        &  0       & 0        & ...      & 29.6     & 20.800   &  1.190   & 250.1    & 192.5    & 0.1000   &  2.50    &  53.0750 & 2        &  8      \\\\\n",
       "\t  7       & 0        & 0        & 0        &  1       &  1       & 0        & 0        &  0       & 0        & ...      & 29.6     & 20.800   &  0.820   & 257.1    & 205.5    & 0.1000   &  1.85    &  54.4100 & 2        &  9      \\\\\n",
       "\t  8       & 0        & 0        & 0        &  0       &  0       & 0        & 0        &  0       & 0        & ...      & 29.6     & 20.800   &  0.635   & 247.9    & 211.5    & 0.1000   &  1.70    &  60.4050 & 2        &  8      \\\\\n",
       "\t  9       & 0        & 0        & 0        & 21       & 11       & 3        & 0        & 34       & 0        & ...      & 29.6     & 20.800   &  0.061   & 248.9    & 205.5    & 0.1500   &  2.30    &  58.8100 & 2        & 19      \\\\\n",
       "\t 10       & 0        & 2        & 0        &  2       &  0       & 0        & 0        &  7       & 0        & ...      & 29.6     & 20.800   & -1.334   & 257.9    & 197.0    & 0.0000   &  2.60    &  59.5750 & 2        & 17      \\\\\n",
       "\t 11       & 0        & 0        & 0        &  0       &  0       & 0        & 0        &  0       & 0        & ...      & 27.9     & 15.800   & -0.976   & 268.4    & 330.5    & 0.0500   &  3.40    & 101.3300 & 3        &  6      \\\\\n",
       "\t 12       & 0        & 0        & 0        &  0       &  0       & 0        & 0        &  0       & 0        & ...      & 27.9     & 15.800   &  1.494   & 274.4    & 272.5    & 0.0000   &  2.55    &  66.1700 & 3        &  1      \\\\\n",
       "\t 13       & 0        & 0        & 0        &  0       &  0       & 0        & 0        &  0       & 0        & ...      & 27.9     & 15.800   & -0.201   & 272.9    & 296.5    & 0.1000   &  2.20    &  83.8400 & 3        &  4      \\\\\n",
       "\t 14       & 0        & 0        & 0        &  0       &  0       & 0        & 0        &  0       & 0        & ...      & 27.9     & 15.800   & -0.482   & 261.4    & 304.0    & 0.0500   &  1.95    &  78.0750 & 3        &  3      \\\\\n",
       "\t 15       & 0        & 0        & 0        &  0       &  0       & 0        & 0        &  0       & 0        & ...      & 27.9     & 15.800   &  0.167   & 258.1    & 323.5    & 0.1000   &  1.90    & 105.9550 & 3        &  3      \\\\\n",
       "\t 16       & 0        & 0        & 0        &  0       &  0       & 0        & 0        &  0       & 0        & ...      & 28.1     & 18.775   &  1.768   & 258.4    & 293.5    & 0.0500   &  7.10    &  87.6850 & 4        &  1      \\\\\n",
       "\t 17       & 0        & 0        & 0        &  0       &  0       & 0        & 0        &  0       & 0        & ...      & 28.1     & 18.775   & -0.030   & 253.4    & 361.0    & 0.0000   & 45.75    & 248.6000 & 4        &  3      \\\\\n",
       "\t 18       & 0        & 0        & 0        &  0       &  0       & 0        & 0        &  1       & 0        & ...      & 28.1     & 18.775   &  0.460   & 268.6    & 330.5    & 0.0500   & 38.95    & 153.6250 & 4        &  3      \\\\\n",
       "\t 19       & 0        & 0        & 0        &  0       &  0       & 0        & 0        &  0       & 0        & ...      & 28.1     & 18.775   &  1.367   & 270.3    & 289.5    & 0.0000   &  4.15    &  76.4150 & 4        &  1      \\\\\n",
       "\t 20       & 0        & 0        & 0        &  0       &  0       & 0        & 0        &  0       & 0        & ...      & 28.1     & 18.775   & -0.811   & 260.3    & 297.0    & 0.0000   & 28.85    &  96.9650 & 4        &  4      \\\\\n",
       "\t 21       & 0        & 0        & 0        &  0       &  0       & 0        & 0        &  0       & 0        & ...      & 29.9     & 19.800   &  1.117   & 252.1    & 251.5    & 0.0000   &  0.85    &  80.0300 & 5        &  3      \\\\\n",
       "\t 22       & 0        & 1        & 0        &  8       &  0       & 1        & 0        &  0       & 1        & ...      & 29.9     & 19.800   & -0.503   & 256.1    & 265.0    & 0.0000   &  1.60    &  89.0350 & 5        & 22      \\\\\n",
       "\t 23       & 0        & 0        & 0        &  0       &  0       & 0        & 0        &  0       & 0        & ...      & 29.9     & 19.800   &  0.729   & 244.1    & 275.5    & 0.1000   &  2.15    & 106.7200 & 5        &  6      \\\\\n",
       "\t 24       & 0        & 0        & 0        &  0       &  0       & 0        & 0        &  0       & 0        & ...      & 29.9     & 19.800   &  1.627   & 239.1    & 256.5    & 0.0000   &  0.95    &  85.5500 & 5        &  0      \\\\\n",
       "\t 25       & 0        & 0        & 0        &  1       &  0       & 0        & 0        &  0       & 0        & ...      & 29.9     & 19.800   &  0.054   & 231.1    & 254.5    & 0.1000   &  2.10    &  86.1700 & 5        &  6      \\\\\n",
       "\t 26       & 0        & 0        & 0        &  0       &  0       & 0        & 0        &  0       & 0        & ...      & 27.1     & 17.400   & -0.578   & 221.8    & 351.0    & 0.0000   & 17.65    & 150.0800 & 6        &  5      \\\\\n",
       "\t 27       & 0        & 0        & 0        &  0       &  0       & 0        & 0        &  0       & 0        & ...      & 27.1     & 17.400   & -0.348   & 206.8    & 405.5    & 0.0500   & 13.35    & 148.6800 & 6        &  4      \\\\\n",
       "\t 28       & 0        & 0        & 0        &  0       &  0       & 0        & 0        &  0       & 0        & ...      & 27.1     & 17.400   &  2.222   & 189.3    & 347.5    & 0.0000   &  3.80    & 124.2150 & 6        &  1      \\\\\n",
       "\t 29       & 0        & 0        & 0        &  0       &  0       & 0        & 0        &  0       & 0        & ...      & 27.1     & 17.400   & -0.893   & 179.3    & 336.0    & 0.0500   & 15.50    & 151.6650 & 6        &  6      \\\\\n",
       "\t 30       & 0        & 0        & 0        &  0       &  0       & 0        & 0        &  0       & 0        & ...      & 27.1     & 17.400   &  0.766   & 172.3    & 354.5    & 0.0000   &  7.35    & 136.9900 & 6        &  4      \\\\\n",
       "\t 31       & 0        & 0        & 0        &  0       &  0       & 0        & 0        &  0       & 0        & ...      & 27.4     & 18.400   &  0.883   & 165.8    & 266.0    & 0.0500   & 11.35    & 126.6850 & 7        &  2      \\\\\n",
       "\t 32       & 0        & 0        & 0        &  0       &  0       & 0        & 0        &  0       & 0        & ...      & 27.4     & 18.400   &  1.786   & 151.8    & 256.5    & 0.0125   & 12.65    & 118.8738 & 7        &  1      \\\\\n",
       "\t 33       & 0        & 0        & 0        &  0       &  0       & 0        & 0        &  0       & 0        & ...      & 27.4     & 18.400   &  1.375   & 193.3    & 234.0    & 0.0000   &  9.15    &  93.5850 & 7        &  1      \\\\\n",
       "\t 34       & 0        & 0        & 0        &  0       &  0       & 0        & 0        &  0       & 0        & ...      & 27.4     & 18.400   & -0.060   & 226.8    & 242.0    & 0.0000   & 16.10    & 114.0200 & 7        &  3      \\\\\n",
       "\t 35       & 0        & 0        & 0        &  0       &  0       & 0        & 0        &  0       & 0        & ...      & 27.4     & 18.400   &  0.367   & 262.3    & 284.0    & 0.0000   & 14.00    & 141.2050 & 7        &  4      \\\\\n",
       "\t 36       & 0        & 0        & 0        &  0       &  0       & 0        & 0        &  0       & 0        & ...      & 26.4     & 20.000   &  1.671   & 296.3    & 294.5    & 0.0000   &  4.95    &  94.3850 & 8        &  3      \\\\\n",
       "\t 37       & 0        & 0        & 0        &  0       &  0       & 0        & 0        &  0       & 0        & ...      & 26.4     & 20.000   & -0.375   & 342.3    & 316.5    & 0.1000   &  7.20    & 115.4450 & 8        &  5      \\\\\n",
       "\t 38       & 0        & 0        & 0        &  0       &  0       & 0        & 0        &  0       & 0        & ...      & 26.4     & 20.000   & -1.005   & 382.8    & 355.0    & 0.0000   & 16.70    & 133.0850 & 8        &  7      \\\\\n",
       "\t 39       & 0        & 0        & 0        &  0       &  0       & 0        & 0        &  0       & 0        & ...      & 26.4     & 20.000   &  0.170   & 415.8    & 362.0    & 0.0000   &  6.00    & 113.8150 & 8        &  5      \\\\\n",
       "\t 40       & 0        & 0        & 0        &  0       &  0       & 0        & 0        &  0       & 0        & ...      & 26.4     & 20.000   &  2.052   & 449.8    & 311.5    & 0.0000   &  4.75    &  93.6600 & 8        &  0      \\\\\n",
       "\t 41       & 0        & 0        & 2        &  0       &  0       & 0        & 0        &  0       & 0        & ...      & 27.1     & 20.500   & -0.356   & 489.0    & 244.5    & 0.0500   &  5.75    &  89.3900 & 9        &  7      \\\\\n",
       "\t 42       & 0        & 0        & 0        &  0       &  0       & 1        & 0        &  0       & 0        & ...      & 27.1     & 20.500   &  0.094   & 531.0    & 247.5    & 0.2000   &  4.95    &  76.9050 & 9        & 11      \\\\\n",
       "\t 43       & 0        & 0        & 0        &  0       &  0       & 0        & 0        &  0       & 0        & ...      & 27.1     & 20.500   & -0.002   & 568.5    & 223.0    & 0.0000   &  5.40    &  72.7450 & 9        &  3      \\\\\n",
       "\t 44       & 0        & 0        & 0        &  0       &  0       & 0        & 0        &  0       & 0        & ...      & 27.1     & 20.500   &  2.255   & 606.5    & 186.0    & 0.0500   &  7.10    &  77.2550 & 9        &  0      \\\\\n",
       "\t 45       & 0        & 0        & 0        &  0       &  0       & 0        & 0        &  0       & 0        & ...      & 27.1     & 20.500   &  0.865   & 624.0    & 189.5    & 0.0000   &  7.10    &  83.3200 & 9        &  2      \\\\\n",
       "\\end{tabular}\n"
      ],
      "text/markdown": [
       "\n",
       "| Sample | C1 | P1 | P2 | P3 | P4 | P5 | P6 | P7 | P8 | ... | salinity | temperature | NAP | penetrability | grainsize | humus | chalk | sorting1 | Beach | richness |\n",
       "|---|---|---|---|---|---|---|---|---|---|---|---|---|---|---|---|---|---|---|---|---|\n",
       "|  1       | 4        | 0        | 0        |  0       |  0       | 0        | 1        |  0       | 0        | ...      | 29.4     | 17.500   |  0.045   | 253.9    | 222.5    | 0.0500   |  2.05    |  69.8300 | 1        | 11       |\n",
       "|  2       | 0        | 0        | 1        |  0       |  0       | 0        | 0        |  0       | 0        | ...      | 29.4     | 17.500   | -1.036   | 226.9    | 200.0    | 0.3000   |  2.50    |  59.0000 | 1        | 10       |\n",
       "|  3       | 0        | 0        | 3        |  0       |  0       | 0        | 0        |  0       | 0        | ...      | 29.4     | 17.500   | -1.336   | 237.1    | 194.5    | 0.1000   |  3.45    |  59.2200 | 1        | 13       |\n",
       "|  4       | 0        | 0        | 0        |  0       |  0       | 0        | 0        |  0       | 0        | ...      | 29.4     | 17.500   |  0.616   | 248.6    | 221.0    | 0.1500   |  1.60    |  67.7500 | 1        | 11       |\n",
       "|  5       | 1        | 0        | 0        |  0       |  0       | 0        | 0        |  0       | 0        | ...      | 29.4     | 17.500   | -0.684   | 251.9    | 202.0    | 0.0500   |  2.45    |  57.7600 | 1        | 10       |\n",
       "|  6       | 0        | 0        | 0        |  0       |  0       | 1        | 0        |  0       | 0        | ...      | 29.6     | 20.800   |  1.190   | 250.1    | 192.5    | 0.1000   |  2.50    |  53.0750 | 2        |  8       |\n",
       "|  7       | 0        | 0        | 0        |  1       |  1       | 0        | 0        |  0       | 0        | ...      | 29.6     | 20.800   |  0.820   | 257.1    | 205.5    | 0.1000   |  1.85    |  54.4100 | 2        |  9       |\n",
       "|  8       | 0        | 0        | 0        |  0       |  0       | 0        | 0        |  0       | 0        | ...      | 29.6     | 20.800   |  0.635   | 247.9    | 211.5    | 0.1000   |  1.70    |  60.4050 | 2        |  8       |\n",
       "|  9       | 0        | 0        | 0        | 21       | 11       | 3        | 0        | 34       | 0        | ...      | 29.6     | 20.800   |  0.061   | 248.9    | 205.5    | 0.1500   |  2.30    |  58.8100 | 2        | 19       |\n",
       "| 10       | 0        | 2        | 0        |  2       |  0       | 0        | 0        |  7       | 0        | ...      | 29.6     | 20.800   | -1.334   | 257.9    | 197.0    | 0.0000   |  2.60    |  59.5750 | 2        | 17       |\n",
       "| 11       | 0        | 0        | 0        |  0       |  0       | 0        | 0        |  0       | 0        | ...      | 27.9     | 15.800   | -0.976   | 268.4    | 330.5    | 0.0500   |  3.40    | 101.3300 | 3        |  6       |\n",
       "| 12       | 0        | 0        | 0        |  0       |  0       | 0        | 0        |  0       | 0        | ...      | 27.9     | 15.800   |  1.494   | 274.4    | 272.5    | 0.0000   |  2.55    |  66.1700 | 3        |  1       |\n",
       "| 13       | 0        | 0        | 0        |  0       |  0       | 0        | 0        |  0       | 0        | ...      | 27.9     | 15.800   | -0.201   | 272.9    | 296.5    | 0.1000   |  2.20    |  83.8400 | 3        |  4       |\n",
       "| 14       | 0        | 0        | 0        |  0       |  0       | 0        | 0        |  0       | 0        | ...      | 27.9     | 15.800   | -0.482   | 261.4    | 304.0    | 0.0500   |  1.95    |  78.0750 | 3        |  3       |\n",
       "| 15       | 0        | 0        | 0        |  0       |  0       | 0        | 0        |  0       | 0        | ...      | 27.9     | 15.800   |  0.167   | 258.1    | 323.5    | 0.1000   |  1.90    | 105.9550 | 3        |  3       |\n",
       "| 16       | 0        | 0        | 0        |  0       |  0       | 0        | 0        |  0       | 0        | ...      | 28.1     | 18.775   |  1.768   | 258.4    | 293.5    | 0.0500   |  7.10    |  87.6850 | 4        |  1       |\n",
       "| 17       | 0        | 0        | 0        |  0       |  0       | 0        | 0        |  0       | 0        | ...      | 28.1     | 18.775   | -0.030   | 253.4    | 361.0    | 0.0000   | 45.75    | 248.6000 | 4        |  3       |\n",
       "| 18       | 0        | 0        | 0        |  0       |  0       | 0        | 0        |  1       | 0        | ...      | 28.1     | 18.775   |  0.460   | 268.6    | 330.5    | 0.0500   | 38.95    | 153.6250 | 4        |  3       |\n",
       "| 19       | 0        | 0        | 0        |  0       |  0       | 0        | 0        |  0       | 0        | ...      | 28.1     | 18.775   |  1.367   | 270.3    | 289.5    | 0.0000   |  4.15    |  76.4150 | 4        |  1       |\n",
       "| 20       | 0        | 0        | 0        |  0       |  0       | 0        | 0        |  0       | 0        | ...      | 28.1     | 18.775   | -0.811   | 260.3    | 297.0    | 0.0000   | 28.85    |  96.9650 | 4        |  4       |\n",
       "| 21       | 0        | 0        | 0        |  0       |  0       | 0        | 0        |  0       | 0        | ...      | 29.9     | 19.800   |  1.117   | 252.1    | 251.5    | 0.0000   |  0.85    |  80.0300 | 5        |  3       |\n",
       "| 22       | 0        | 1        | 0        |  8       |  0       | 1        | 0        |  0       | 1        | ...      | 29.9     | 19.800   | -0.503   | 256.1    | 265.0    | 0.0000   |  1.60    |  89.0350 | 5        | 22       |\n",
       "| 23       | 0        | 0        | 0        |  0       |  0       | 0        | 0        |  0       | 0        | ...      | 29.9     | 19.800   |  0.729   | 244.1    | 275.5    | 0.1000   |  2.15    | 106.7200 | 5        |  6       |\n",
       "| 24       | 0        | 0        | 0        |  0       |  0       | 0        | 0        |  0       | 0        | ...      | 29.9     | 19.800   |  1.627   | 239.1    | 256.5    | 0.0000   |  0.95    |  85.5500 | 5        |  0       |\n",
       "| 25       | 0        | 0        | 0        |  1       |  0       | 0        | 0        |  0       | 0        | ...      | 29.9     | 19.800   |  0.054   | 231.1    | 254.5    | 0.1000   |  2.10    |  86.1700 | 5        |  6       |\n",
       "| 26       | 0        | 0        | 0        |  0       |  0       | 0        | 0        |  0       | 0        | ...      | 27.1     | 17.400   | -0.578   | 221.8    | 351.0    | 0.0000   | 17.65    | 150.0800 | 6        |  5       |\n",
       "| 27       | 0        | 0        | 0        |  0       |  0       | 0        | 0        |  0       | 0        | ...      | 27.1     | 17.400   | -0.348   | 206.8    | 405.5    | 0.0500   | 13.35    | 148.6800 | 6        |  4       |\n",
       "| 28       | 0        | 0        | 0        |  0       |  0       | 0        | 0        |  0       | 0        | ...      | 27.1     | 17.400   |  2.222   | 189.3    | 347.5    | 0.0000   |  3.80    | 124.2150 | 6        |  1       |\n",
       "| 29       | 0        | 0        | 0        |  0       |  0       | 0        | 0        |  0       | 0        | ...      | 27.1     | 17.400   | -0.893   | 179.3    | 336.0    | 0.0500   | 15.50    | 151.6650 | 6        |  6       |\n",
       "| 30       | 0        | 0        | 0        |  0       |  0       | 0        | 0        |  0       | 0        | ...      | 27.1     | 17.400   |  0.766   | 172.3    | 354.5    | 0.0000   |  7.35    | 136.9900 | 6        |  4       |\n",
       "| 31       | 0        | 0        | 0        |  0       |  0       | 0        | 0        |  0       | 0        | ...      | 27.4     | 18.400   |  0.883   | 165.8    | 266.0    | 0.0500   | 11.35    | 126.6850 | 7        |  2       |\n",
       "| 32       | 0        | 0        | 0        |  0       |  0       | 0        | 0        |  0       | 0        | ...      | 27.4     | 18.400   |  1.786   | 151.8    | 256.5    | 0.0125   | 12.65    | 118.8738 | 7        |  1       |\n",
       "| 33       | 0        | 0        | 0        |  0       |  0       | 0        | 0        |  0       | 0        | ...      | 27.4     | 18.400   |  1.375   | 193.3    | 234.0    | 0.0000   |  9.15    |  93.5850 | 7        |  1       |\n",
       "| 34       | 0        | 0        | 0        |  0       |  0       | 0        | 0        |  0       | 0        | ...      | 27.4     | 18.400   | -0.060   | 226.8    | 242.0    | 0.0000   | 16.10    | 114.0200 | 7        |  3       |\n",
       "| 35       | 0        | 0        | 0        |  0       |  0       | 0        | 0        |  0       | 0        | ...      | 27.4     | 18.400   |  0.367   | 262.3    | 284.0    | 0.0000   | 14.00    | 141.2050 | 7        |  4       |\n",
       "| 36       | 0        | 0        | 0        |  0       |  0       | 0        | 0        |  0       | 0        | ...      | 26.4     | 20.000   |  1.671   | 296.3    | 294.5    | 0.0000   |  4.95    |  94.3850 | 8        |  3       |\n",
       "| 37       | 0        | 0        | 0        |  0       |  0       | 0        | 0        |  0       | 0        | ...      | 26.4     | 20.000   | -0.375   | 342.3    | 316.5    | 0.1000   |  7.20    | 115.4450 | 8        |  5       |\n",
       "| 38       | 0        | 0        | 0        |  0       |  0       | 0        | 0        |  0       | 0        | ...      | 26.4     | 20.000   | -1.005   | 382.8    | 355.0    | 0.0000   | 16.70    | 133.0850 | 8        |  7       |\n",
       "| 39       | 0        | 0        | 0        |  0       |  0       | 0        | 0        |  0       | 0        | ...      | 26.4     | 20.000   |  0.170   | 415.8    | 362.0    | 0.0000   |  6.00    | 113.8150 | 8        |  5       |\n",
       "| 40       | 0        | 0        | 0        |  0       |  0       | 0        | 0        |  0       | 0        | ...      | 26.4     | 20.000   |  2.052   | 449.8    | 311.5    | 0.0000   |  4.75    |  93.6600 | 8        |  0       |\n",
       "| 41       | 0        | 0        | 2        |  0       |  0       | 0        | 0        |  0       | 0        | ...      | 27.1     | 20.500   | -0.356   | 489.0    | 244.5    | 0.0500   |  5.75    |  89.3900 | 9        |  7       |\n",
       "| 42       | 0        | 0        | 0        |  0       |  0       | 1        | 0        |  0       | 0        | ...      | 27.1     | 20.500   |  0.094   | 531.0    | 247.5    | 0.2000   |  4.95    |  76.9050 | 9        | 11       |\n",
       "| 43       | 0        | 0        | 0        |  0       |  0       | 0        | 0        |  0       | 0        | ...      | 27.1     | 20.500   | -0.002   | 568.5    | 223.0    | 0.0000   |  5.40    |  72.7450 | 9        |  3       |\n",
       "| 44       | 0        | 0        | 0        |  0       |  0       | 0        | 0        |  0       | 0        | ...      | 27.1     | 20.500   |  2.255   | 606.5    | 186.0    | 0.0500   |  7.10    |  77.2550 | 9        |  0       |\n",
       "| 45       | 0        | 0        | 0        |  0       |  0       | 0        | 0        |  0       | 0        | ...      | 27.1     | 20.500   |  0.865   | 624.0    | 189.5    | 0.0000   |  7.10    |  83.3200 | 9        |  2       |\n",
       "\n"
      ],
      "text/plain": [
       "   Sample C1 P1 P2 P3 P4 P5 P6 P7 P8 ... salinity temperature NAP   \n",
       "1   1     4  0  0   0  0 0  1   0 0  ... 29.4     17.500       0.045\n",
       "2   2     0  0  1   0  0 0  0   0 0  ... 29.4     17.500      -1.036\n",
       "3   3     0  0  3   0  0 0  0   0 0  ... 29.4     17.500      -1.336\n",
       "4   4     0  0  0   0  0 0  0   0 0  ... 29.4     17.500       0.616\n",
       "5   5     1  0  0   0  0 0  0   0 0  ... 29.4     17.500      -0.684\n",
       "6   6     0  0  0   0  0 1  0   0 0  ... 29.6     20.800       1.190\n",
       "7   7     0  0  0   1  1 0  0   0 0  ... 29.6     20.800       0.820\n",
       "8   8     0  0  0   0  0 0  0   0 0  ... 29.6     20.800       0.635\n",
       "9   9     0  0  0  21 11 3  0  34 0  ... 29.6     20.800       0.061\n",
       "10 10     0  2  0   2  0 0  0   7 0  ... 29.6     20.800      -1.334\n",
       "11 11     0  0  0   0  0 0  0   0 0  ... 27.9     15.800      -0.976\n",
       "12 12     0  0  0   0  0 0  0   0 0  ... 27.9     15.800       1.494\n",
       "13 13     0  0  0   0  0 0  0   0 0  ... 27.9     15.800      -0.201\n",
       "14 14     0  0  0   0  0 0  0   0 0  ... 27.9     15.800      -0.482\n",
       "15 15     0  0  0   0  0 0  0   0 0  ... 27.9     15.800       0.167\n",
       "16 16     0  0  0   0  0 0  0   0 0  ... 28.1     18.775       1.768\n",
       "17 17     0  0  0   0  0 0  0   0 0  ... 28.1     18.775      -0.030\n",
       "18 18     0  0  0   0  0 0  0   1 0  ... 28.1     18.775       0.460\n",
       "19 19     0  0  0   0  0 0  0   0 0  ... 28.1     18.775       1.367\n",
       "20 20     0  0  0   0  0 0  0   0 0  ... 28.1     18.775      -0.811\n",
       "21 21     0  0  0   0  0 0  0   0 0  ... 29.9     19.800       1.117\n",
       "22 22     0  1  0   8  0 1  0   0 1  ... 29.9     19.800      -0.503\n",
       "23 23     0  0  0   0  0 0  0   0 0  ... 29.9     19.800       0.729\n",
       "24 24     0  0  0   0  0 0  0   0 0  ... 29.9     19.800       1.627\n",
       "25 25     0  0  0   1  0 0  0   0 0  ... 29.9     19.800       0.054\n",
       "26 26     0  0  0   0  0 0  0   0 0  ... 27.1     17.400      -0.578\n",
       "27 27     0  0  0   0  0 0  0   0 0  ... 27.1     17.400      -0.348\n",
       "28 28     0  0  0   0  0 0  0   0 0  ... 27.1     17.400       2.222\n",
       "29 29     0  0  0   0  0 0  0   0 0  ... 27.1     17.400      -0.893\n",
       "30 30     0  0  0   0  0 0  0   0 0  ... 27.1     17.400       0.766\n",
       "31 31     0  0  0   0  0 0  0   0 0  ... 27.4     18.400       0.883\n",
       "32 32     0  0  0   0  0 0  0   0 0  ... 27.4     18.400       1.786\n",
       "33 33     0  0  0   0  0 0  0   0 0  ... 27.4     18.400       1.375\n",
       "34 34     0  0  0   0  0 0  0   0 0  ... 27.4     18.400      -0.060\n",
       "35 35     0  0  0   0  0 0  0   0 0  ... 27.4     18.400       0.367\n",
       "36 36     0  0  0   0  0 0  0   0 0  ... 26.4     20.000       1.671\n",
       "37 37     0  0  0   0  0 0  0   0 0  ... 26.4     20.000      -0.375\n",
       "38 38     0  0  0   0  0 0  0   0 0  ... 26.4     20.000      -1.005\n",
       "39 39     0  0  0   0  0 0  0   0 0  ... 26.4     20.000       0.170\n",
       "40 40     0  0  0   0  0 0  0   0 0  ... 26.4     20.000       2.052\n",
       "41 41     0  0  2   0  0 0  0   0 0  ... 27.1     20.500      -0.356\n",
       "42 42     0  0  0   0  0 1  0   0 0  ... 27.1     20.500       0.094\n",
       "43 43     0  0  0   0  0 0  0   0 0  ... 27.1     20.500      -0.002\n",
       "44 44     0  0  0   0  0 0  0   0 0  ... 27.1     20.500       2.255\n",
       "45 45     0  0  0   0  0 0  0   0 0  ... 27.1     20.500       0.865\n",
       "   penetrability grainsize humus  chalk sorting1 Beach richness\n",
       "1  253.9         222.5     0.0500  2.05  69.8300 1     11      \n",
       "2  226.9         200.0     0.3000  2.50  59.0000 1     10      \n",
       "3  237.1         194.5     0.1000  3.45  59.2200 1     13      \n",
       "4  248.6         221.0     0.1500  1.60  67.7500 1     11      \n",
       "5  251.9         202.0     0.0500  2.45  57.7600 1     10      \n",
       "6  250.1         192.5     0.1000  2.50  53.0750 2      8      \n",
       "7  257.1         205.5     0.1000  1.85  54.4100 2      9      \n",
       "8  247.9         211.5     0.1000  1.70  60.4050 2      8      \n",
       "9  248.9         205.5     0.1500  2.30  58.8100 2     19      \n",
       "10 257.9         197.0     0.0000  2.60  59.5750 2     17      \n",
       "11 268.4         330.5     0.0500  3.40 101.3300 3      6      \n",
       "12 274.4         272.5     0.0000  2.55  66.1700 3      1      \n",
       "13 272.9         296.5     0.1000  2.20  83.8400 3      4      \n",
       "14 261.4         304.0     0.0500  1.95  78.0750 3      3      \n",
       "15 258.1         323.5     0.1000  1.90 105.9550 3      3      \n",
       "16 258.4         293.5     0.0500  7.10  87.6850 4      1      \n",
       "17 253.4         361.0     0.0000 45.75 248.6000 4      3      \n",
       "18 268.6         330.5     0.0500 38.95 153.6250 4      3      \n",
       "19 270.3         289.5     0.0000  4.15  76.4150 4      1      \n",
       "20 260.3         297.0     0.0000 28.85  96.9650 4      4      \n",
       "21 252.1         251.5     0.0000  0.85  80.0300 5      3      \n",
       "22 256.1         265.0     0.0000  1.60  89.0350 5     22      \n",
       "23 244.1         275.5     0.1000  2.15 106.7200 5      6      \n",
       "24 239.1         256.5     0.0000  0.95  85.5500 5      0      \n",
       "25 231.1         254.5     0.1000  2.10  86.1700 5      6      \n",
       "26 221.8         351.0     0.0000 17.65 150.0800 6      5      \n",
       "27 206.8         405.5     0.0500 13.35 148.6800 6      4      \n",
       "28 189.3         347.5     0.0000  3.80 124.2150 6      1      \n",
       "29 179.3         336.0     0.0500 15.50 151.6650 6      6      \n",
       "30 172.3         354.5     0.0000  7.35 136.9900 6      4      \n",
       "31 165.8         266.0     0.0500 11.35 126.6850 7      2      \n",
       "32 151.8         256.5     0.0125 12.65 118.8738 7      1      \n",
       "33 193.3         234.0     0.0000  9.15  93.5850 7      1      \n",
       "34 226.8         242.0     0.0000 16.10 114.0200 7      3      \n",
       "35 262.3         284.0     0.0000 14.00 141.2050 7      4      \n",
       "36 296.3         294.5     0.0000  4.95  94.3850 8      3      \n",
       "37 342.3         316.5     0.1000  7.20 115.4450 8      5      \n",
       "38 382.8         355.0     0.0000 16.70 133.0850 8      7      \n",
       "39 415.8         362.0     0.0000  6.00 113.8150 8      5      \n",
       "40 449.8         311.5     0.0000  4.75  93.6600 8      0      \n",
       "41 489.0         244.5     0.0500  5.75  89.3900 9      7      \n",
       "42 531.0         247.5     0.2000  4.95  76.9050 9     11      \n",
       "43 568.5         223.0     0.0000  5.40  72.7450 9      3      \n",
       "44 606.5         186.0     0.0500  7.10  77.2550 9      0      \n",
       "45 624.0         189.5     0.0000  7.10  83.3200 9      2      "
      ]
     },
     "metadata": {},
     "output_type": "display_data"
    }
   ],
   "source": [
    "#compute richness of cols w/ spp (2-76) & samples (rows 1-45) using apply to rows (marg=1) & sum fun (get # cols w/ values>0)\n",
    "richness = (survey_data[1:45,2:76]>0) %>% apply(1, sum)\n",
    "richness\n",
    "\n",
    "#add richness column to survey data tibble \n",
    "survey_data[\"richness\"] = richness\n",
    "survey_data"
   ]
  },
  {
   "cell_type": "code",
   "execution_count": 31,
   "id": "8c4d915e",
   "metadata": {},
   "outputs": [
    {
     "data": {
      "text/html": [
       "<ol class=list-inline>\n",
       "\t<li>45</li>\n",
       "\t<li>90</li>\n",
       "</ol>\n"
      ],
      "text/latex": [
       "\\begin{enumerate*}\n",
       "\\item 45\n",
       "\\item 90\n",
       "\\end{enumerate*}\n"
      ],
      "text/markdown": [
       "1. 45\n",
       "2. 90\n",
       "\n",
       "\n"
      ],
      "text/plain": [
       "[1] 45 90"
      ]
     },
     "metadata": {},
     "output_type": "display_data"
    },
    {
     "data": {
      "text/html": [
       "0"
      ],
      "text/latex": [
       "0"
      ],
      "text/markdown": [
       "0"
      ],
      "text/plain": [
       "[1] 0"
      ]
     },
     "metadata": {},
     "output_type": "display_data"
    }
   ],
   "source": [
    "#verify that there are no missing richness values\n",
    "dim(survey_data)\n",
    "sum(is.na(survey_data$richness))"
   ]
  },
  {
   "cell_type": "code",
   "execution_count": 32,
   "id": "b665db21",
   "metadata": {},
   "outputs": [
    {
     "data": {
      "text/html": [
       "<table>\n",
       "<thead><tr><th scope=col>week</th><th scope=col>angle1</th><th scope=col>angle2</th><th scope=col>exposure</th><th scope=col>salinity</th><th scope=col>temperature</th><th scope=col>NAP</th><th scope=col>penetrability</th><th scope=col>grainsize</th><th scope=col>humus</th><th scope=col>chalk</th><th scope=col>sorting1</th><th scope=col>Beach</th><th scope=col>richness</th></tr></thead>\n",
       "<tbody>\n",
       "\t<tr><td>1     </td><td> 32   </td><td>96    </td><td>10    </td><td>29.4  </td><td>17.5  </td><td> 0.045</td><td>253.9 </td><td>222.5 </td><td>0.05  </td><td>2.05  </td><td>69.830</td><td>1     </td><td>11    </td></tr>\n",
       "\t<tr><td>1     </td><td> 62   </td><td>96    </td><td>10    </td><td>29.4  </td><td>17.5  </td><td>-1.036</td><td>226.9 </td><td>200.0 </td><td>0.30  </td><td>2.50  </td><td>59.000</td><td>1     </td><td>10    </td></tr>\n",
       "\t<tr><td>1     </td><td> 65   </td><td>96    </td><td>10    </td><td>29.4  </td><td>17.5  </td><td>-1.336</td><td>237.1 </td><td>194.5 </td><td>0.10  </td><td>3.45  </td><td>59.220</td><td>1     </td><td>13    </td></tr>\n",
       "\t<tr><td>1     </td><td> 55   </td><td>96    </td><td>10    </td><td>29.4  </td><td>17.5  </td><td> 0.616</td><td>248.6 </td><td>221.0 </td><td>0.15  </td><td>1.60  </td><td>67.750</td><td>1     </td><td>11    </td></tr>\n",
       "\t<tr><td>1     </td><td> 23   </td><td>96    </td><td>10    </td><td>29.4  </td><td>17.5  </td><td>-0.684</td><td>251.9 </td><td>202.0 </td><td>0.05  </td><td>2.45  </td><td>57.760</td><td>1     </td><td>10    </td></tr>\n",
       "\t<tr><td>1     </td><td>129   </td><td>89    </td><td> 8    </td><td>29.6  </td><td>20.8  </td><td> 1.190</td><td>250.1 </td><td>192.5 </td><td>0.10  </td><td>2.50  </td><td>53.075</td><td>2     </td><td> 8    </td></tr>\n",
       "</tbody>\n",
       "</table>\n"
      ],
      "text/latex": [
       "\\begin{tabular}{r|llllllllllllll}\n",
       " week & angle1 & angle2 & exposure & salinity & temperature & NAP & penetrability & grainsize & humus & chalk & sorting1 & Beach & richness\\\\\n",
       "\\hline\n",
       "\t 1      &  32    & 96     & 10     & 29.4   & 17.5   &  0.045 & 253.9  & 222.5  & 0.05   & 2.05   & 69.830 & 1      & 11    \\\\\n",
       "\t 1      &  62    & 96     & 10     & 29.4   & 17.5   & -1.036 & 226.9  & 200.0  & 0.30   & 2.50   & 59.000 & 1      & 10    \\\\\n",
       "\t 1      &  65    & 96     & 10     & 29.4   & 17.5   & -1.336 & 237.1  & 194.5  & 0.10   & 3.45   & 59.220 & 1      & 13    \\\\\n",
       "\t 1      &  55    & 96     & 10     & 29.4   & 17.5   &  0.616 & 248.6  & 221.0  & 0.15   & 1.60   & 67.750 & 1      & 11    \\\\\n",
       "\t 1      &  23    & 96     & 10     & 29.4   & 17.5   & -0.684 & 251.9  & 202.0  & 0.05   & 2.45   & 57.760 & 1      & 10    \\\\\n",
       "\t 1      & 129    & 89     &  8     & 29.6   & 20.8   &  1.190 & 250.1  & 192.5  & 0.10   & 2.50   & 53.075 & 2      &  8    \\\\\n",
       "\\end{tabular}\n"
      ],
      "text/markdown": [
       "\n",
       "| week | angle1 | angle2 | exposure | salinity | temperature | NAP | penetrability | grainsize | humus | chalk | sorting1 | Beach | richness |\n",
       "|---|---|---|---|---|---|---|---|---|---|---|---|---|---|\n",
       "| 1      |  32    | 96     | 10     | 29.4   | 17.5   |  0.045 | 253.9  | 222.5  | 0.05   | 2.05   | 69.830 | 1      | 11     |\n",
       "| 1      |  62    | 96     | 10     | 29.4   | 17.5   | -1.036 | 226.9  | 200.0  | 0.30   | 2.50   | 59.000 | 1      | 10     |\n",
       "| 1      |  65    | 96     | 10     | 29.4   | 17.5   | -1.336 | 237.1  | 194.5  | 0.10   | 3.45   | 59.220 | 1      | 13     |\n",
       "| 1      |  55    | 96     | 10     | 29.4   | 17.5   |  0.616 | 248.6  | 221.0  | 0.15   | 1.60   | 67.750 | 1      | 11     |\n",
       "| 1      |  23    | 96     | 10     | 29.4   | 17.5   | -0.684 | 251.9  | 202.0  | 0.05   | 2.45   | 57.760 | 1      | 10     |\n",
       "| 1      | 129    | 89     |  8     | 29.6   | 20.8   |  1.190 | 250.1  | 192.5  | 0.10   | 2.50   | 53.075 | 2      |  8     |\n",
       "\n"
      ],
      "text/plain": [
       "  week angle1 angle2 exposure salinity temperature NAP    penetrability\n",
       "1 1     32    96     10       29.4     17.5         0.045 253.9        \n",
       "2 1     62    96     10       29.4     17.5        -1.036 226.9        \n",
       "3 1     65    96     10       29.4     17.5        -1.336 237.1        \n",
       "4 1     55    96     10       29.4     17.5         0.616 248.6        \n",
       "5 1     23    96     10       29.4     17.5        -0.684 251.9        \n",
       "6 1    129    89      8       29.6     20.8         1.190 250.1        \n",
       "  grainsize humus chalk sorting1 Beach richness\n",
       "1 222.5     0.05  2.05  69.830   1     11      \n",
       "2 200.0     0.30  2.50  59.000   1     10      \n",
       "3 194.5     0.10  3.45  59.220   1     13      \n",
       "4 221.0     0.15  1.60  67.750   1     11      \n",
       "5 202.0     0.05  2.45  57.760   1     10      \n",
       "6 192.5     0.10  2.50  53.075   2      8      "
      ]
     },
     "metadata": {},
     "output_type": "display_data"
    }
   ],
   "source": [
    "#create variable containing no columns with species \n",
    "survey_data_richness = survey_data[, 77:90]\n",
    "head(survey_data_richness)"
   ]
  },
  {
   "cell_type": "markdown",
   "id": "4c9f1049",
   "metadata": {},
   "source": [
    "# Best subset selection using regsubset() function "
   ]
  },
  {
   "cell_type": "code",
   "execution_count": 35,
   "id": "bf6e9172",
   "metadata": {},
   "outputs": [],
   "source": [
    " library(leaps)"
   ]
  },
  {
   "cell_type": "markdown",
   "id": "dea7135a",
   "metadata": {},
   "source": [
    "Assess which of the 13 variables is the best predicter of species richness\n",
    "\n",
    "Use regsubset() to identify best model that contains a given # of predictors, where best is quantified using RSS."
   ]
  },
  {
   "cell_type": "code",
   "execution_count": 38,
   "id": "1bbe7c2e",
   "metadata": {},
   "outputs": [
    {
     "data": {
      "text/plain": [
       "Subset selection object\n",
       "Call: regsubsets.formula(richness ~ ., data = survey_data_richness, \n",
       "    nvmax = 13)\n",
       "13 Variables  (and intercept)\n",
       "              Forced in Forced out\n",
       "week              FALSE      FALSE\n",
       "angle1            FALSE      FALSE\n",
       "angle2            FALSE      FALSE\n",
       "exposure          FALSE      FALSE\n",
       "salinity          FALSE      FALSE\n",
       "temperature       FALSE      FALSE\n",
       "NAP               FALSE      FALSE\n",
       "penetrability     FALSE      FALSE\n",
       "grainsize         FALSE      FALSE\n",
       "humus             FALSE      FALSE\n",
       "chalk             FALSE      FALSE\n",
       "sorting1          FALSE      FALSE\n",
       "Beach             FALSE      FALSE\n",
       "1 subsets of each size up to 13\n",
       "Selection Algorithm: exhaustive\n",
       "          week angle1 angle2 exposure salinity temperature NAP penetrability\n",
       "1  ( 1 )  \" \"  \" \"    \" \"    \"*\"      \" \"      \" \"         \" \" \" \"          \n",
       "2  ( 1 )  \" \"  \" \"    \" \"    \"*\"      \" \"      \" \"         \"*\" \" \"          \n",
       "3  ( 1 )  \" \"  \" \"    \" \"    \"*\"      \"*\"      \" \"         \"*\" \" \"          \n",
       "4  ( 1 )  \" \"  \" \"    \" \"    \"*\"      \"*\"      \" \"         \"*\" \" \"          \n",
       "5  ( 1 )  \" \"  \" \"    \" \"    \"*\"      \"*\"      \" \"         \"*\" \" \"          \n",
       "6  ( 1 )  \" \"  \" \"    \"*\"    \" \"      \" \"      \"*\"         \"*\" \" \"          \n",
       "7  ( 1 )  \" \"  \"*\"    \"*\"    \" \"      \" \"      \"*\"         \"*\" \"*\"          \n",
       "8  ( 1 )  \"*\"  \" \"    \"*\"    \" \"      \" \"      \"*\"         \"*\" \"*\"          \n",
       "9  ( 1 )  \"*\"  \"*\"    \"*\"    \" \"      \" \"      \"*\"         \"*\" \"*\"          \n",
       "10  ( 1 ) \"*\"  \"*\"    \"*\"    \"*\"      \" \"      \"*\"         \"*\" \"*\"          \n",
       "11  ( 1 ) \"*\"  \"*\"    \"*\"    \"*\"      \" \"      \"*\"         \"*\" \"*\"          \n",
       "12  ( 1 ) \"*\"  \"*\"    \"*\"    \"*\"      \"*\"      \"*\"         \"*\" \"*\"          \n",
       "13  ( 1 ) \"*\"  \"*\"    \"*\"    \"*\"      \"*\"      \"*\"         \"*\" \"*\"          \n",
       "          grainsize humus chalk sorting1 Beach\n",
       "1  ( 1 )  \" \"       \" \"   \" \"   \" \"      \" \"  \n",
       "2  ( 1 )  \" \"       \" \"   \" \"   \" \"      \" \"  \n",
       "3  ( 1 )  \" \"       \" \"   \" \"   \" \"      \" \"  \n",
       "4  ( 1 )  \" \"       \" \"   \"*\"   \" \"      \" \"  \n",
       "5  ( 1 )  \" \"       \" \"   \"*\"   \"*\"      \" \"  \n",
       "6  ( 1 )  \" \"       \" \"   \"*\"   \"*\"      \"*\"  \n",
       "7  ( 1 )  \" \"       \" \"   \"*\"   \" \"      \"*\"  \n",
       "8  ( 1 )  \"*\"       \" \"   \"*\"   \" \"      \"*\"  \n",
       "9  ( 1 )  \"*\"       \" \"   \"*\"   \" \"      \"*\"  \n",
       "10  ( 1 ) \"*\"       \" \"   \"*\"   \" \"      \"*\"  \n",
       "11  ( 1 ) \"*\"       \" \"   \"*\"   \"*\"      \"*\"  \n",
       "12  ( 1 ) \"*\"       \" \"   \"*\"   \"*\"      \"*\"  \n",
       "13  ( 1 ) \"*\"       \"*\"   \"*\"   \"*\"      \"*\"  "
      ]
     },
     "metadata": {},
     "output_type": "display_data"
    }
   ],
   "source": [
    "#summary() command outputs best set of variables for each model size \n",
    "# by default, regsubsets() only reports results up to best 8-variable model -> use nvmax  to return total variables desired = 13\n",
    "\n",
    "regfit.full <- regsubsets(richness ~., data = survey_data_richness, nvmax = 13)\n",
    "reg.summary <- summary(regfit.full)\n",
    "reg.summary"
   ]
  },
  {
   "cell_type": "markdown",
   "id": "b7141927",
   "metadata": {},
   "source": [
    "^asterisk indicates given variable is included in corresponding model \n",
    " \n",
    "defaul regsubsets() w/o nvmax ->  best 2-variable model contains exposure & NAP\n",
    "w/ nvmax -> best 2-variable model contains exposure & NAP (or is it NAP & chalk?)"
   ]
  },
  {
   "cell_type": "code",
   "execution_count": 39,
   "id": "3c9c8661",
   "metadata": {},
   "outputs": [
    {
     "data": {
      "text/html": [
       "<ol class=list-inline>\n",
       "\t<li>'which'</li>\n",
       "\t<li>'rsq'</li>\n",
       "\t<li>'rss'</li>\n",
       "\t<li>'adjr2'</li>\n",
       "\t<li>'cp'</li>\n",
       "\t<li>'bic'</li>\n",
       "\t<li>'outmat'</li>\n",
       "\t<li>'obj'</li>\n",
       "</ol>\n"
      ],
      "text/latex": [
       "\\begin{enumerate*}\n",
       "\\item 'which'\n",
       "\\item 'rsq'\n",
       "\\item 'rss'\n",
       "\\item 'adjr2'\n",
       "\\item 'cp'\n",
       "\\item 'bic'\n",
       "\\item 'outmat'\n",
       "\\item 'obj'\n",
       "\\end{enumerate*}\n"
      ],
      "text/markdown": [
       "1. 'which'\n",
       "2. 'rsq'\n",
       "3. 'rss'\n",
       "4. 'adjr2'\n",
       "5. 'cp'\n",
       "6. 'bic'\n",
       "7. 'outmat'\n",
       "8. 'obj'\n",
       "\n",
       "\n"
      ],
      "text/plain": [
       "[1] \"which\"  \"rsq\"    \"rss\"    \"adjr2\"  \"cp\"     \"bic\"    \"outmat\" \"obj\"   "
      ]
     },
     "metadata": {},
     "output_type": "display_data"
    }
   ],
   "source": [
    "#summary() also returns R^2, RSS, adjusted R^2, Cp & BIC \n",
    "# -> examine these to try to select best overall model\n",
    "\n",
    "names(reg.summary)"
   ]
  },
  {
   "cell_type": "code",
   "execution_count": 40,
   "id": "e31c12a7",
   "metadata": {},
   "outputs": [
    {
     "data": {
      "text/html": [
       "<ol class=list-inline>\n",
       "\t<li>0.339628932623597</li>\n",
       "\t<li>0.632133281678796</li>\n",
       "\t<li>0.679264804838037</li>\n",
       "\t<li>0.687536608478148</li>\n",
       "\t<li>0.69047196722152</li>\n",
       "\t<li>0.702903111225578</li>\n",
       "\t<li>0.708464202966281</li>\n",
       "\t<li>0.71658518799407</li>\n",
       "\t<li>0.72224562535265</li>\n",
       "\t<li>0.722467539660085</li>\n",
       "\t<li>0.722546777312205</li>\n",
       "\t<li>0.722574502095028</li>\n",
       "\t<li>0.722588099652087</li>\n",
       "</ol>\n"
      ],
      "text/latex": [
       "\\begin{enumerate*}\n",
       "\\item 0.339628932623597\n",
       "\\item 0.632133281678796\n",
       "\\item 0.679264804838037\n",
       "\\item 0.687536608478148\n",
       "\\item 0.69047196722152\n",
       "\\item 0.702903111225578\n",
       "\\item 0.708464202966281\n",
       "\\item 0.71658518799407\n",
       "\\item 0.72224562535265\n",
       "\\item 0.722467539660085\n",
       "\\item 0.722546777312205\n",
       "\\item 0.722574502095028\n",
       "\\item 0.722588099652087\n",
       "\\end{enumerate*}\n"
      ],
      "text/markdown": [
       "1. 0.339628932623597\n",
       "2. 0.632133281678796\n",
       "3. 0.679264804838037\n",
       "4. 0.687536608478148\n",
       "5. 0.69047196722152\n",
       "6. 0.702903111225578\n",
       "7. 0.708464202966281\n",
       "8. 0.71658518799407\n",
       "9. 0.72224562535265\n",
       "10. 0.722467539660085\n",
       "11. 0.722546777312205\n",
       "12. 0.722574502095028\n",
       "13. 0.722588099652087\n",
       "\n",
       "\n"
      ],
      "text/plain": [
       " [1] 0.3396289 0.6321333 0.6792648 0.6875366 0.6904720 0.7029031 0.7084642\n",
       " [8] 0.7165852 0.7222456 0.7224675 0.7225468 0.7225745 0.7225881"
      ]
     },
     "metadata": {},
     "output_type": "display_data"
    }
   ],
   "source": [
    "#R^2 increases from 34% when only 1 variable is included in model to 72% when all variables included \n",
    "    # -> as expected, R^2 increases as more variables are included\n",
    "\n",
    "reg.summary$rsq"
   ]
  },
  {
   "cell_type": "code",
   "execution_count": 70,
   "id": "6d6e1f16",
   "metadata": {},
   "outputs": [
    {
     "data": {
      "image/png": "[encoded data removed]",
      "text/plain": [
       "plot without title"
      ]
     },
     "metadata": {
      "image/png": {
       "height": 420,
       "width": 420
      }
     },
     "output_type": "display_data"
    }
   ],
   "source": [
    "# Plot RSS, adjusted R^2, Cp & BIC for all of the models at once -> will help decide which model to select\n",
    "# type = \"1\"  tells R to connect the plotted points with lines\n",
    "\n",
    "par(mfrow = c(2, 2))\n",
    "\n",
    "##RSS\n",
    "plot(reg.summary$rss , xlab = \"Number of Variables\", ylab = \"RSS\", type = \"l\")\n",
    "\n",
    "##ajusted R^2\n",
    "plot(reg.summary$adjr2 , xlab = \"Number of Variables\", ylab = \"Adjusted RSq\", type = \"l\")\n",
    "\n",
    "##Cp\n",
    "plot(reg.summary$cp, xlab = \"Number of Variables\", ylab = \"Cp\", type = \"l\")\n",
    "\n",
    "##BIC\n",
    "plot(reg.summary$bic , xlab = \"Number of Variables\", ylab = \"BIC\", type = \"l\")\n",
    "\n",
    "#RSS -> clear line max at 1 & line min at 13 \n",
    "#ajusted R^2 -> not clear what max vector pt is so must caculate\n",
    "#Cp and BIC -> not clear what min vector pt is so must calculate"
   ]
  },
  {
   "cell_type": "code",
   "execution_count": 69,
   "id": "074c6a92",
   "metadata": {},
   "outputs": [
    {
     "data": {
      "text/html": [
       "4"
      ],
      "text/latex": [
       "4"
      ],
      "text/markdown": [
       "4"
      ],
      "text/plain": [
       "[1] 4"
      ]
     },
     "metadata": {},
     "output_type": "display_data"
    },
    {
     "data": {
      "image/png": "[encoded data removed]",
      "text/plain": [
       "plot without title"
      ]
     },
     "metadata": {
      "image/png": {
       "height": 420,
       "width": 420
      }
     },
     "output_type": "display_data"
    }
   ],
   "source": [
    "##Ajusted R^2\n",
    "which.max (reg.summary$adjr2)\n",
    "    #which.max() identifies location of max point of a vector\n",
    "\n",
    "plot(reg.summary$adjr2, xlab = \"Number of Variables\", ylab = \"adjr2\", type = \"l\")\n",
    "    \n",
    "points (4, reg.summary$adjr2 [4] , col = \"red\", cex = 2, pch = 20)\n",
    "    #points() puts points on plot that has already been created vs creating a new plot"
   ]
  },
  {
   "cell_type": "code",
   "execution_count": 71,
   "id": "a053c47e",
   "metadata": {},
   "outputs": [
    {
     "data": {
      "text/html": [
       "3"
      ],
      "text/latex": [
       "3"
      ],
      "text/markdown": [
       "3"
      ],
      "text/plain": [
       "[1] 3"
      ]
     },
     "metadata": {},
     "output_type": "display_data"
    },
    {
     "data": {
      "text/html": [
       "3"
      ],
      "text/latex": [
       "3"
      ],
      "text/markdown": [
       "3"
      ],
      "text/plain": [
       "[1] 3"
      ]
     },
     "metadata": {},
     "output_type": "display_data"
    },
    {
     "data": {
      "image/png": "[encoded data removed]",
      "text/plain": [
       "plot without title"
      ]
     },
     "metadata": {
      "image/png": {
       "height": 420,
       "width": 420
      }
     },
     "output_type": "display_data"
    },
    {
     "data": {
      "image/png": "[encoded data removed]",
      "text/plain": [
       "plot without title"
      ]
     },
     "metadata": {
      "image/png": {
       "height": 420,
       "width": 420
      }
     },
     "output_type": "display_data"
    }
   ],
   "source": [
    "##Cp\n",
    "which.min(reg.summary$cp) \n",
    "    #which.min() indicates models with smallest statistics\n",
    "plot(reg.summary$cp, xlab = \"Number of Variables\", ylab = \"Cp\", type = \"l\")\n",
    "    points (3, reg.summary$cp[3] , col = \"red\", cex = 2, pch = 20)\n",
    "\n",
    "##BIC\n",
    "which.min(reg.summary$bic)\n",
    "\n",
    "plot(reg.summary$bic , xlab = \"Number of Variables\", ylab = \"BIC\", type = \"l\")\n",
    "    points (3, reg.summary$bic [3], col = \"red\", cex = 2, pch = 20)"
   ]
  },
  {
   "cell_type": "code",
   "execution_count": 73,
   "id": "0c9967d5",
   "metadata": {
    "scrolled": true
   },
   "outputs": [
    {
     "data": {
      "image/png": "[encoded data removed]",
      "text/plain": [
       "plot without title"
      ]
     },
     "metadata": {
      "image/png": {
       "height": 420,
       "width": 420
      }
     },
     "output_type": "display_data"
    }
   ],
   "source": [
    "#regsubsets() has built-in plot() command -> use to display selected variables for best model with given # predictors\n",
    "    #ranked by BIC, Cp, adjusted R^2 or AIC\n",
    "\n",
    "par(mfrow = c(2, 2))\n",
    "\n",
    "plot(regfit.full , scale = \"r2\")\n",
    "plot(regfit.full , scale = \"adjr2\")\n",
    "plot(regfit.full , scale = \"Cp\")\n",
    "plot(regfit.full , scale = \"bic\")\n",
    "\n",
    "#top row each plot contains black square for each variable selected according to optimal model associated with that statistic\n",
    "\n",
    "#NOT QUITE SURE HOW TO INTERPRET THESE PLOTS IN TERMS OF HOW MANY MODELS SHARE A SIMILAR R^2/ADJR2/CP/BIC\n",
    "# AND WHAT MODEL HAS THE LOWEST/HIGHEST R^2/ADJR2/CP/BIC"
   ]
  },
  {
   "cell_type": "code",
   "execution_count": 76,
   "id": "07775ae7",
   "metadata": {},
   "outputs": [
    {
     "data": {
      "text/html": [
       "<dl class=dl-horizontal>\n",
       "\t<dt>(Intercept)</dt>\n",
       "\t\t<dd>0.574551032039714</dd>\n",
       "\t<dt>exposure</dt>\n",
       "\t\t<dd>-2.32010108737828</dd>\n",
       "\t<dt>salinity</dt>\n",
       "\t\t<dd>1.05803456179575</dd>\n",
       "\t<dt>NAP</dt>\n",
       "\t\t<dd>-2.58807360593783</dd>\n",
       "</dl>\n"
      ],
      "text/latex": [
       "\\begin{description*}\n",
       "\\item[(Intercept)] 0.574551032039714\n",
       "\\item[exposure] -2.32010108737828\n",
       "\\item[salinity] 1.05803456179575\n",
       "\\item[NAP] -2.58807360593783\n",
       "\\end{description*}\n"
      ],
      "text/markdown": [
       "(Intercept)\n",
       ":   0.574551032039714exposure\n",
       ":   -2.32010108737828salinity\n",
       ":   1.05803456179575NAP\n",
       ":   -2.58807360593783\n",
       "\n"
      ],
      "text/plain": [
       "(Intercept)    exposure    salinity         NAP \n",
       "   0.574551   -2.320101    1.058035   -2.588074 "
      ]
     },
     "metadata": {},
     "output_type": "display_data"
    }
   ],
   "source": [
    "#coef() to see the coefficient estimates associated with particular model of interest\n",
    "\n",
    "#HOW CAN TO TELL IF THIS IS FOR BIC OR CP AS BOTH HAVE MIN PT = 3\n",
    "coef(regfit.full, 3)"
   ]
  },
  {
   "cell_type": "markdown",
   "id": "5320ce69",
   "metadata": {},
   "source": [
    "## Choosing among models using Validation-Set approach & Cross-Validation\n",
    "\n",
    "for these approaches to yield accurate test error estimates -> use only training observations to perform all aspects of model-fitting (incl. variable selection).\n",
    "    -> if full data set were used to perform best subset selection step, then validation set errors and cross-validation errors obtained would not be accurate test error estimates\n",
    "\n",
    "how to use validation set approach:\n",
    "1. split observations into a training set and a test set by creating a random vector (train) of elements equal to TRUE if corresponding observation is in the training set & FALSE otherwise\n",
    "2. vector test has a TRUE if observation is in test set & a FALSE otherwise\n",
    "\n",
    "! in command to create test causes TRUEs to switch to FALSEs and vice versa "
   ]
  },
  {
   "cell_type": "code",
   "execution_count": 77,
   "id": "2d54d735",
   "metadata": {},
   "outputs": [],
   "source": [
    "set.seed(1)\n",
    "train <- sample(c(TRUE,FALSE), nrow(survey_data_richness), replace=TRUE)\n",
    "test <- (!train)"
   ]
  },
  {
   "cell_type": "code",
   "execution_count": 78,
   "id": "e50bdad7",
   "metadata": {},
   "outputs": [],
   "source": [
    "#apply regsubsets() to training set in order to perform best subset selection\n",
    "regfit.best <- regsubsets(richness ~., \n",
    "    data = survey_data_richness[train, ], nvmax = 13)\n",
    "\n",
    "#^subset richness data directly in the call in order to access only the training data susbset using expression \n",
    "    #survey_data_richness[train, ]"
   ]
  },
  {
   "cell_type": "code",
   "execution_count": 79,
   "id": "bf0d7c2e",
   "metadata": {},
   "outputs": [],
   "source": [
    "#compute validation set error for best model of each model size\n",
    "# 1. make a model matrix for the test data\n",
    "\n",
    "test.mat <- model.matrix(richness ~., data = survey_data_richness[test, ])\n",
    "    #model.matrix() uses for building an \"X\"  matrix from data"
   ]
  },
  {
   "cell_type": "code",
   "execution_count": 81,
   "id": "3bda3b95",
   "metadata": {},
   "outputs": [
    {
     "data": {
      "text/html": [
       "<ol class=list-inline>\n",
       "\t<li>18.8576057331153</li>\n",
       "\t<li>11.2631733801643</li>\n",
       "\t<li>5.90852553362301</li>\n",
       "\t<li>16.2227271260415</li>\n",
       "\t<li>15.2038193106665</li>\n",
       "\t<li>12.2386421083695</li>\n",
       "\t<li>22.9246778058003</li>\n",
       "\t<li>21.932974072418</li>\n",
       "\t<li>33.4538189025871</li>\n",
       "\t<li>34.3756404133318</li>\n",
       "\t<li>43.4890422085499</li>\n",
       "\t<li>41.0465067088131</li>\n",
       "\t<li>38.9513885836139</li>\n",
       "</ol>\n"
      ],
      "text/latex": [
       "\\begin{enumerate*}\n",
       "\\item 18.8576057331153\n",
       "\\item 11.2631733801643\n",
       "\\item 5.90852553362301\n",
       "\\item 16.2227271260415\n",
       "\\item 15.2038193106665\n",
       "\\item 12.2386421083695\n",
       "\\item 22.9246778058003\n",
       "\\item 21.932974072418\n",
       "\\item 33.4538189025871\n",
       "\\item 34.3756404133318\n",
       "\\item 43.4890422085499\n",
       "\\item 41.0465067088131\n",
       "\\item 38.9513885836139\n",
       "\\end{enumerate*}\n"
      ],
      "text/markdown": [
       "1. 18.8576057331153\n",
       "2. 11.2631733801643\n",
       "3. 5.90852553362301\n",
       "4. 16.2227271260415\n",
       "5. 15.2038193106665\n",
       "6. 12.2386421083695\n",
       "7. 22.9246778058003\n",
       "8. 21.932974072418\n",
       "9. 33.4538189025871\n",
       "10. 34.3756404133318\n",
       "11. 43.4890422085499\n",
       "12. 41.0465067088131\n",
       "13. 38.9513885836139\n",
       "\n",
       "\n"
      ],
      "text/plain": [
       " [1] 18.857606 11.263173  5.908526 16.222727 15.203819 12.238642 22.924678\n",
       " [8] 21.932974 33.453819 34.375640 43.489042 41.046507 38.951389"
      ]
     },
     "metadata": {},
     "output_type": "display_data"
    }
   ],
   "source": [
    "# 2. run a loop, and for each size i, extract coefficients from regfit.best for the best model of that size, multiply them \n",
    "    #into appropriate columns of the test model matrix to form predictions and compute test MSE\n",
    "\n",
    "val.errors <- rep(NA, 13)\n",
    "for (i in 1:13) {\n",
    " coefi <- coef(regfit.best , id = i)\n",
    " pred <- test.mat[, names(coefi)] %*% coefi\n",
    " val.errors[i] <- mean((survey_data_richness$richness[test] - pred)^2)\n",
    "}\n",
    "\n",
    "val.errors"
   ]
  },
  {
   "cell_type": "code",
   "execution_count": 82,
   "id": "78202f47",
   "metadata": {},
   "outputs": [
    {
     "data": {
      "text/html": [
       "3"
      ],
      "text/latex": [
       "3"
      ],
      "text/markdown": [
       "3"
      ],
      "text/plain": [
       "[1] 3"
      ]
     },
     "metadata": {},
     "output_type": "display_data"
    }
   ],
   "source": [
    "# 3. find how many variables best model contains \n",
    "which.min(val.errors)"
   ]
  },
  {
   "cell_type": "code",
   "execution_count": 83,
   "id": "db88af79",
   "metadata": {},
   "outputs": [
    {
     "data": {
      "text/html": [
       "<dl class=dl-horizontal>\n",
       "\t<dt>(Intercept)</dt>\n",
       "\t\t<dd>-16.7119956424859</dd>\n",
       "\t<dt>exposure</dt>\n",
       "\t\t<dd>-1.51003969306522</dd>\n",
       "\t<dt>salinity</dt>\n",
       "\t\t<dd>1.36629777351067</dd>\n",
       "\t<dt>NAP</dt>\n",
       "\t\t<dd>-2.63525417817372</dd>\n",
       "</dl>\n"
      ],
      "text/latex": [
       "\\begin{description*}\n",
       "\\item[(Intercept)] -16.7119956424859\n",
       "\\item[exposure] -1.51003969306522\n",
       "\\item[salinity] 1.36629777351067\n",
       "\\item[NAP] -2.63525417817372\n",
       "\\end{description*}\n"
      ],
      "text/markdown": [
       "(Intercept)\n",
       ":   -16.7119956424859exposure\n",
       ":   -1.51003969306522salinity\n",
       ":   1.36629777351067NAP\n",
       ":   -2.63525417817372\n",
       "\n"
      ],
      "text/plain": [
       "(Intercept)    exposure    salinity         NAP \n",
       " -16.711996   -1.510040    1.366298   -2.635254 "
      ]
     },
     "metadata": {},
     "output_type": "display_data"
    }
   ],
   "source": [
    "coef(regfit.best, 3)"
   ]
  },
  {
   "cell_type": "code",
   "execution_count": 84,
   "id": "ec15103b",
   "metadata": {},
   "outputs": [],
   "source": [
    "# 4. as there is no predict() method for regsubsets() -> must write function that captures steps above to write my own \n",
    "    #predict method\n",
    "\n",
    "predict.regsubsets <- function(object, newdata, id, ...) {\n",
    "    form <- as.formula(object$call[[2]])\n",
    "    mat <- model.matrix(form, newdata)\n",
    "    coefi <- coef(object, id=id)\n",
    "    xvars <- names(coefi)\n",
    "    mat[, xvars] %*% coefi\n",
    "}"
   ]
  },
  {
   "cell_type": "code",
   "execution_count": 85,
   "id": "cf3e4ac5",
   "metadata": {},
   "outputs": [
    {
     "data": {
      "text/html": [
       "<dl class=dl-horizontal>\n",
       "\t<dt>(Intercept)</dt>\n",
       "\t\t<dd>0.574551032039714</dd>\n",
       "\t<dt>exposure</dt>\n",
       "\t\t<dd>-2.32010108737828</dd>\n",
       "\t<dt>salinity</dt>\n",
       "\t\t<dd>1.05803456179575</dd>\n",
       "\t<dt>NAP</dt>\n",
       "\t\t<dd>-2.58807360593783</dd>\n",
       "</dl>\n"
      ],
      "text/latex": [
       "\\begin{description*}\n",
       "\\item[(Intercept)] 0.574551032039714\n",
       "\\item[exposure] -2.32010108737828\n",
       "\\item[salinity] 1.05803456179575\n",
       "\\item[NAP] -2.58807360593783\n",
       "\\end{description*}\n"
      ],
      "text/markdown": [
       "(Intercept)\n",
       ":   0.574551032039714exposure\n",
       ":   -2.32010108737828salinity\n",
       ":   1.05803456179575NAP\n",
       ":   -2.58807360593783\n",
       "\n"
      ],
      "text/plain": [
       "(Intercept)    exposure    salinity         NAP \n",
       "   0.574551   -2.320101    1.058035   -2.588074 "
      ]
     },
     "metadata": {},
     "output_type": "display_data"
    }
   ],
   "source": [
    "# 5. perform best subset selection on full data set and select best 3-variable model\n",
    "# must use full data set in order to obtain more accurate coefficient estimates\n",
    "regfit.best <- regsubsets(richness~., data=survey_data_richness, nvmax=13)\n",
    "coef(regfit.best, 3)\n",
    "\n",
    "#^note: perform best subset selection on full data set and select best 3-variable model rather than simply using varibales \n",
    "    #obtained from training set b/c best 3-var model on full data set may differ from corresponding model on training set"
   ]
  },
  {
   "cell_type": "code",
   "execution_count": 86,
   "id": "c867c82a",
   "metadata": {},
   "outputs": [],
   "source": [
    "#^from above, see best 3-var model on full data set has different variable set than best 3-var model on training set\n",
    "# 6. choose among models of diff sizes using cross-validation \n",
    "    # must perform best subset selection w/in each k training sets:\n",
    "        # a. create a vector that allocates each observation to one of k = 10 folds\n",
    "        # b. create a matrix in which the results will be stored\n",
    "\n",
    "k <- 10\n",
    "n <- nrow(survey_data_richness)\n",
    "set.seed(1)\n",
    "folds <- sample(rep(1:k, length = n))\n",
    "cv.errors <- matrix(NA, k, 13,\n",
    "    dimnames = list(NULL, paste(1:13)))"
   ]
  },
  {
   "cell_type": "code",
   "execution_count": 91,
   "id": "14040191",
   "metadata": {},
   "outputs": [
    {
     "data": {
      "text/plain": [
       "Subset selection object\n",
       "Call: regsubsets.formula(richness ~ ., data = survey_data_richness[folds != \n",
       "    j, ], nvmax = 13)\n",
       "13 Variables  (and intercept)\n",
       "              Forced in Forced out\n",
       "week              FALSE      FALSE\n",
       "angle1            FALSE      FALSE\n",
       "angle2            FALSE      FALSE\n",
       "exposure          FALSE      FALSE\n",
       "salinity          FALSE      FALSE\n",
       "temperature       FALSE      FALSE\n",
       "NAP               FALSE      FALSE\n",
       "penetrability     FALSE      FALSE\n",
       "grainsize         FALSE      FALSE\n",
       "humus             FALSE      FALSE\n",
       "chalk             FALSE      FALSE\n",
       "sorting1          FALSE      FALSE\n",
       "Beach             FALSE      FALSE\n",
       "1 subsets of each size up to 13\n",
       "Selection Algorithm: exhaustive"
      ]
     },
     "metadata": {},
     "output_type": "display_data"
    },
    {
     "data": {
      "text/html": [
       "<table>\n",
       "<tbody>\n",
       "\t<tr><td>6.527018</td></tr>\n",
       "\t<tr><td>3.396329</td></tr>\n",
       "\t<tr><td>7.541250</td></tr>\n",
       "\t<tr><td>5.719778</td></tr>\n",
       "</tbody>\n",
       "</table>\n"
      ],
      "text/latex": [
       "\\begin{tabular}{r|l}\n",
       "\t 6.527018\\\\\n",
       "\t 3.396329\\\\\n",
       "\t 7.541250\\\\\n",
       "\t 5.719778\\\\\n",
       "\\end{tabular}\n"
      ],
      "text/markdown": [
       "\n",
       "| 6.527018 |\n",
       "| 3.396329 |\n",
       "| 7.541250 |\n",
       "| 5.719778 |\n",
       "\n"
      ],
      "text/plain": [
       "  [,1]    \n",
       "1 6.527018\n",
       "2 3.396329\n",
       "3 7.541250\n",
       "4 5.719778"
      ]
     },
     "metadata": {},
     "output_type": "display_data"
    }
   ],
   "source": [
    "        # c. write a for loop that perfoms cross-validation\n",
    "# in the jth fold - elements of folds that equal j are in the test set & remainder are in training set\n",
    "# make predictions for each model size (using new predit() method) & compute test errors on appropriate subset & store in \n",
    "    #appropriate slot in matrix cv.errors\n",
    "\n",
    "# note: R automatically uses predict.regsubsets() fucntion when predict() is called b/c best.fit object has class regsubsets\n",
    "\n",
    "for (j in 1:k) {\n",
    "    best.fit <- regsubsets(richness~ .,\n",
    "        data = survey_data_richness[folds != j, ],\n",
    "        nvmax = 13)\n",
    "    for (i in 1:13) {\n",
    "        pred <- predict(best.fit , survey_data_richness[folds == j, ], id = i)\n",
    "        cv.errors [j, i] <-\n",
    "        mean (( survey_data_richness$richness[folds == j] - pred)^2)\n",
    "     }\n",
    " }\n",
    "\n",
    "best.fit\n",
    "\n",
    "pred\n",
    "\n",
    "#gives 10x13 matrix of which (j, i)th element corresponds to test MSE for the jth cross-validation fold for the best \n",
    "    # i-variable model\n",
    "\n",
    "\n",
    "# AM I INTERPRETING THE RESULT MATRIX CORRECTLY AS 10 X 13? -> OR IS IT 4 X 13 OR 3 X 13?"
   ]
  },
  {
   "cell_type": "code",
   "execution_count": 88,
   "id": "aa606b07",
   "metadata": {},
   "outputs": [
    {
     "data": {
      "text/html": [
       "<dl class=dl-horizontal>\n",
       "\t<dt>1</dt>\n",
       "\t\t<dd>21.1944186568233</dd>\n",
       "\t<dt>2</dt>\n",
       "\t\t<dd>9.35690385168869</dd>\n",
       "\t<dt>3</dt>\n",
       "\t\t<dd>9.98757461619131</dd>\n",
       "\t<dt>4</dt>\n",
       "\t\t<dd>10.4758294738034</dd>\n",
       "\t<dt>5</dt>\n",
       "\t\t<dd>11.7148712885915</dd>\n",
       "\t<dt>6</dt>\n",
       "\t\t<dd>11.6078885943386</dd>\n",
       "\t<dt>7</dt>\n",
       "\t\t<dd>11.8315164365987</dd>\n",
       "\t<dt>8</dt>\n",
       "\t\t<dd>11.0360355079921</dd>\n",
       "\t<dt>9</dt>\n",
       "\t\t<dd>10.0512563242678</dd>\n",
       "\t<dt>10</dt>\n",
       "\t\t<dd>10.385414820672</dd>\n",
       "\t<dt>11</dt>\n",
       "\t\t<dd>10.7472784428994</dd>\n",
       "\t<dt>12</dt>\n",
       "\t\t<dd>10.9627116602098</dd>\n",
       "\t<dt>13</dt>\n",
       "\t\t<dd>10.9784102615592</dd>\n",
       "</dl>\n"
      ],
      "text/latex": [
       "\\begin{description*}\n",
       "\\item[1] 21.1944186568233\n",
       "\\item[2] 9.35690385168869\n",
       "\\item[3] 9.98757461619131\n",
       "\\item[4] 10.4758294738034\n",
       "\\item[5] 11.7148712885915\n",
       "\\item[6] 11.6078885943386\n",
       "\\item[7] 11.8315164365987\n",
       "\\item[8] 11.0360355079921\n",
       "\\item[9] 10.0512563242678\n",
       "\\item[10] 10.385414820672\n",
       "\\item[11] 10.7472784428994\n",
       "\\item[12] 10.9627116602098\n",
       "\\item[13] 10.9784102615592\n",
       "\\end{description*}\n"
      ],
      "text/markdown": [
       "1\n",
       ":   21.19441865682332\n",
       ":   9.356903851688693\n",
       ":   9.987574616191314\n",
       ":   10.47582947380345\n",
       ":   11.71487128859156\n",
       ":   11.60788859433867\n",
       ":   11.83151643659878\n",
       ":   11.03603550799219\n",
       ":   10.051256324267810\n",
       ":   10.38541482067211\n",
       ":   10.747278442899412\n",
       ":   10.962711660209813\n",
       ":   10.9784102615592\n",
       "\n"
      ],
      "text/plain": [
       "        1         2         3         4         5         6         7         8 \n",
       "21.194419  9.356904  9.987575 10.475829 11.714871 11.607889 11.831516 11.036036 \n",
       "        9        10        11        12        13 \n",
       "10.051256 10.385415 10.747278 10.962712 10.978410 "
      ]
     },
     "metadata": {},
     "output_type": "display_data"
    }
   ],
   "source": [
    "#use apply() to average over columns of matrix in order to obtain vector for which the ith element is the cross-validation error\n",
    "    # for the i-variable model\n",
    "\n",
    "mean.cv.errors <- apply(cv.errors, 2, mean)\n",
    "mean.cv.errors"
   ]
  },
  {
   "cell_type": "code",
   "execution_count": 96,
   "id": "75cfb2c4",
   "metadata": {
    "scrolled": true
   },
   "outputs": [
    {
     "data": {
      "text/html": [
       "<dl class=dl-horizontal>\n",
       "\t<dt>(Intercept)</dt>\n",
       "\t\t<dd>-24.1960695993769</dd>\n",
       "\t<dt>week</dt>\n",
       "\t\t<dd>1.45175074731405</dd>\n",
       "\t<dt>angle1</dt>\n",
       "\t\t<dd>-0.00874707828487469</dd>\n",
       "\t<dt>angle2</dt>\n",
       "\t\t<dd>0.0787455514831993</dd>\n",
       "\t<dt>exposure</dt>\n",
       "\t\t<dd>-0.275227445200117</dd>\n",
       "\t<dt>temperature</dt>\n",
       "\t\t<dd>1.56689793973997</dd>\n",
       "\t<dt>NAP</dt>\n",
       "\t\t<dd>-2.7115449629358</dd>\n",
       "\t<dt>penetrability</dt>\n",
       "\t\t<dd>-0.00904243784783335</dd>\n",
       "\t<dt>grainsize</dt>\n",
       "\t\t<dd>0.0182206636751743</dd>\n",
       "\t<dt>chalk</dt>\n",
       "\t\t<dd>-0.115248301448547</dd>\n",
       "\t<dt>Beach</dt>\n",
       "\t\t<dd>-0.940811981855378</dd>\n",
       "</dl>\n"
      ],
      "text/latex": [
       "\\begin{description*}\n",
       "\\item[(Intercept)] -24.1960695993769\n",
       "\\item[week] 1.45175074731405\n",
       "\\item[angle1] -0.00874707828487469\n",
       "\\item[angle2] 0.0787455514831993\n",
       "\\item[exposure] -0.275227445200117\n",
       "\\item[temperature] 1.56689793973997\n",
       "\\item[NAP] -2.7115449629358\n",
       "\\item[penetrability] -0.00904243784783335\n",
       "\\item[grainsize] 0.0182206636751743\n",
       "\\item[chalk] -0.115248301448547\n",
       "\\item[Beach] -0.940811981855378\n",
       "\\end{description*}\n"
      ],
      "text/markdown": [
       "(Intercept)\n",
       ":   -24.1960695993769week\n",
       ":   1.45175074731405angle1\n",
       ":   -0.00874707828487469angle2\n",
       ":   0.0787455514831993exposure\n",
       ":   -0.275227445200117temperature\n",
       ":   1.56689793973997NAP\n",
       ":   -2.7115449629358penetrability\n",
       ":   -0.00904243784783335grainsize\n",
       ":   0.0182206636751743chalk\n",
       ":   -0.115248301448547Beach\n",
       ":   -0.940811981855378\n",
       "\n"
      ],
      "text/plain": [
       "  (Intercept)          week        angle1        angle2      exposure \n",
       "-24.196069599   1.451750747  -0.008747078   0.078745551  -0.275227445 \n",
       "  temperature           NAP penetrability     grainsize         chalk \n",
       "  1.566897940  -2.711544963  -0.009042438   0.018220664  -0.115248301 \n",
       "        Beach \n",
       " -0.940811982 "
      ]
     },
     "metadata": {},
     "output_type": "display_data"
    }
   ],
   "source": [
    "#^ cross-validation selects a 10-variable model\n",
    "\n",
    "reg.best <- regsubsets(richness ~., data=survey_data_richness,\n",
    "    nvmax = 13)\n",
    "    coef(reg.best, 10)"
   ]
  },
  {
   "cell_type": "code",
   "execution_count": null,
   "id": "c18c5266",
   "metadata": {},
   "outputs": [],
   "source": []
  }
 ],
 "metadata": {
  "kernelspec": {
   "display_name": "R",
   "language": "R",
   "name": "ir"
  },
  "language_info": {
   "codemirror_mode": "r",
   "file_extension": ".r",
   "mimetype": "text/x-r-source",
   "name": "R",
   "pygments_lexer": "r",
   "version": "3.6.1"
  }
 },
 "nbformat": 4,
 "nbformat_minor": 5
}
